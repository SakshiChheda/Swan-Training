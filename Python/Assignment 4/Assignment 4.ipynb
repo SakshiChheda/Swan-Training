{
 "cells": [
  {
   "cell_type": "markdown",
   "id": "2c603231",
   "metadata": {},
   "source": [
    "# Assignment 4"
   ]
  },
  {
   "cell_type": "markdown",
   "id": "e6324108",
   "metadata": {},
   "source": [
    "## 1.Using the same Dmart file, calculate the weekly returns for the entire year \n",
    "\n",
    "2.Populate a table of returns with week number of month(1,2,3,4,5) and month name        \n",
    "\n",
    "Please note:\n",
    "1.Week starts from Monday\n",
    "2. Use while loop to loop through the dataframe and not any form of groupby, directly or indirectly\n",
    "3. You buy at the open of the first day of the week and sell at the close of the last day of week\n",
    "4. If the end of month falls on Wednesday, you exit your position on Wednesday close. New week of the new month starts from Thursday\n"
   ]
  },
  {
   "cell_type": "code",
   "execution_count": 1,
   "id": "d6681872",
   "metadata": {},
   "outputs": [],
   "source": [
    "import pandas as pd\n",
    "import numpy as np\n",
    "import calendar\n",
    "import datetime\n",
    "from dateutil import parser\n",
    "\n",
    "import warnings\n",
    "warnings.filterwarnings('ignore')"
   ]
  },
  {
   "cell_type": "code",
   "execution_count": 2,
   "id": "fcf670a6",
   "metadata": {},
   "outputs": [],
   "source": [
    "#Please change the path of the file as per your pc after r'\n",
    "path = r'C:\\Users\\admin\\Desktop\\Sakshi\\6. Python\\Assignment 4\\Dmart.csv'"
   ]
  },
  {
   "cell_type": "markdown",
   "id": "aedc3e66",
   "metadata": {},
   "source": [
    "##### Dmart file = df"
   ]
  },
  {
   "cell_type": "code",
   "execution_count": 3,
   "id": "9a147794",
   "metadata": {},
   "outputs": [],
   "source": [
    "df = pd.read_csv(path)"
   ]
  },
  {
   "cell_type": "code",
   "execution_count": 4,
   "id": "0e754c2e",
   "metadata": {},
   "outputs": [],
   "source": [
    "#converted date/time column to date/time format\n",
    "\n",
    "df['Date'] = np.nan\n",
    "\n",
    "for i in range (0,len(df['Date/Time'])):\n",
    "    date_string = df['Date/Time'][i]\n",
    "    date_object = parser.parse(date_string)\n",
    "    df['Date'][i] = date_object"
   ]
  },
  {
   "cell_type": "code",
   "execution_count": 5,
   "id": "0220d773",
   "metadata": {},
   "outputs": [],
   "source": [
    "#Adding a day column, month column, week number column\n",
    "df['Day'] = np.nan\n",
    "df['Month'] = np.nan\n",
    "df['Week Number'] = np.nan\n",
    "\n",
    " \n",
    "for i in range (0,len(df['Date/Time'])):\n",
    "    df['Day'][i] = (df['Date'][i]).strftime(\"%A\")\n",
    "    df['Month'][i] = (df['Date'][i]).strftime(\"%m\")\n",
    "    df['Week Number'][i] = (df['Date'][i]).strftime(\"%W\")  \n"
   ]
  },
  {
   "cell_type": "code",
   "execution_count": 6,
   "id": "dac15136",
   "metadata": {},
   "outputs": [],
   "source": [
    "#adding a column to check if day is wednesday or no\n",
    "\n",
    "df['Checking day is wednesday or no'] = df['Day'].apply (lambda x: '1' if x == 'Wednesday' else '0')"
   ]
  },
  {
   "cell_type": "code",
   "execution_count": 7,
   "id": "77e17616",
   "metadata": {},
   "outputs": [],
   "source": [
    "#adjusting month to another cell\n",
    "i = 0\n",
    "while i < len(df['Date/Time']):\n",
    "    for i in range (0,len(df['Date/Time'])):\n",
    "        if i == 251:\n",
    "            df.loc[i,'NewLocation'] = df.loc[i,'Month']\n",
    "        else:\n",
    "            df.loc[i,'NewLocation'] = df.loc[i+1,'Month']\n",
    "        i += 1"
   ]
  },
  {
   "cell_type": "code",
   "execution_count": 8,
   "id": "6d7a1217",
   "metadata": {},
   "outputs": [],
   "source": [
    "#finding month end\n",
    "i = 0\n",
    "while i < len(df['Date/Time']):\n",
    "    for i in range (0,len(df['Date/Time'])):\n",
    "        if df.loc[i,'Month'] == df.loc[i,'NewLocation']:\n",
    "            df.loc[i,'MonthCheck'] = '0'\n",
    "        else:\n",
    "            df.loc[i,'MonthCheck'] = '1'\n",
    "        i += 1"
   ]
  },
  {
   "cell_type": "code",
   "execution_count": 9,
   "id": "47ee3227",
   "metadata": {},
   "outputs": [],
   "source": [
    "# combining month end and wednesday close\n",
    "i = 0\n",
    "while i < len(df['Date/Time']):\n",
    "    for i in range (0,len(df['Date/Time'])):\n",
    "        if ((df.loc[i,'MonthCheck'] == '1') and (df.loc[i,'Checking day is wednesday or no'] == '1')):\n",
    "            df.loc[i,'WednesdayClose'] = '1'\n",
    "        else:\n",
    "            df.loc[i,'WednesdayClose'] = '0'\n",
    "        i += 1    "
   ]
  },
  {
   "cell_type": "code",
   "execution_count": 10,
   "id": "99acb1c4",
   "metadata": {},
   "outputs": [],
   "source": [
    "#close counter\n",
    "i = 0\n",
    "while i < len(df['Date/Time']):\n",
    "    for i in range (0,len(df['Date/Time'])):\n",
    "        if i == 0:\n",
    "            df.loc[i,'CloseApprox'] = '0'\n",
    "        elif i == 251:\n",
    "            df.loc[i,'CloseApprox'] = '1'\n",
    "        elif (df.loc[i,'Week Number']) == (df.loc[i+1,'Week Number']):\n",
    "            df.loc[i,'CloseApprox'] = '0'\n",
    "        else:\n",
    "            df.loc[i,'CloseApprox'] = '1'\n",
    "        i += 1    "
   ]
  },
  {
   "cell_type": "code",
   "execution_count": 11,
   "id": "f30d7072",
   "metadata": {},
   "outputs": [],
   "source": [
    "#to determine the close\n",
    "i = 0\n",
    "while i < len(df['Date/Time']):\n",
    "    for i in range (0,len(df['Date/Time'])):\n",
    "        if df.loc[i,'WednesdayClose'] == '1':\n",
    "            df.loc[i,'CloseCount'] = 1\n",
    "        elif df.loc[i,'CloseApprox'] == '1':\n",
    "            df.loc[i,'CloseCount'] = 1\n",
    "        else:\n",
    "            df.loc[i,'CloseCount'] = 0\n",
    "        i += 1"
   ]
  },
  {
   "cell_type": "code",
   "execution_count": 12,
   "id": "41092d40",
   "metadata": {},
   "outputs": [],
   "source": [
    "#to determine the open count\n",
    "i = 0\n",
    "while i < len(df['Date/Time']):\n",
    "    for i in range (0,len(df['Date/Time'])):\n",
    "        if i == 0:\n",
    "            df.loc[i,'OpenCount'] = 1\n",
    "        elif i == 251:\n",
    "            df.loc[i,'OpenCount'] = 0\n",
    "        elif df.loc[i,'Week Number'] != df.loc[i-1,'Week Number']:\n",
    "            df.loc[i,'OpenCount'] = 1\n",
    "        else:\n",
    "            df.loc[i,'OpenCount'] = 0\n",
    "        i += 1"
   ]
  },
  {
   "cell_type": "code",
   "execution_count": 13,
   "id": "090f572d",
   "metadata": {
    "scrolled": true
   },
   "outputs": [],
   "source": [
    "#counters of close and open\n",
    "i = 0\n",
    "summationclose = 0\n",
    "for i in range(0,len(df['Date/Time'])):\n",
    "    summationclose += df.loc[i,'CloseCount']\n",
    "    df.loc[i,'CloseCounter'] = summationclose\n",
    "    \n",
    "j = 0\n",
    "summationopen = 0\n",
    "for j in range (0,len(df['Date/Time'])):\n",
    "    summationopen += df.loc[j,'OpenCount']\n",
    "    df.loc[j,'OpenCounter'] = summationopen"
   ]
  },
  {
   "cell_type": "code",
   "execution_count": 14,
   "id": "dfbf5c7c",
   "metadata": {
    "scrolled": true
   },
   "outputs": [],
   "source": [
    "#close counter helper\n",
    "i = 0\n",
    "while i < len(df):\n",
    "    for i in range(0,len(df['Date/Time'])):\n",
    "        if i == 0:\n",
    "            df.loc[i,'CloseCounterHelper'] = df.loc[i,'CloseCounter'] \n",
    "        elif df.loc[i,'CloseCounter'] != df.loc[i,'OpenCounter']:\n",
    "            df.loc[i,'CloseCounterHelper'] = df.loc[i-1,'CloseCounter']\n",
    "        else:\n",
    "            df.loc[i,'CloseCounterHelper'] = df.loc[i,'CloseCounter']\n",
    "        i+=1"
   ]
  },
  {
   "cell_type": "code",
   "execution_count": 15,
   "id": "55dc1b7a",
   "metadata": {
    "scrolled": true
   },
   "outputs": [],
   "source": [
    "#creating the final open count\n",
    "i = 0\n",
    "while i < len(df):\n",
    "    for i in range (0,len(df['Date/Time'])):\n",
    "        if i == 0:\n",
    "            df.loc[i,'OpenCounterFinal'] = df.loc[i,'OpenCounter']\n",
    "        elif df.loc[i,'OpenCounter'] != df.loc[i-1,'OpenCounter']:\n",
    "            df.loc[i,'OpenCounterFinal'] = df.loc[i,'OpenCounter']\n",
    "        else:\n",
    "            df.loc[i,'OpenCounterFinal'] = 0\n",
    "        i+= 1"
   ]
  },
  {
   "cell_type": "code",
   "execution_count": 16,
   "id": "dea9f1fd",
   "metadata": {
    "scrolled": true
   },
   "outputs": [],
   "source": [
    "#reaching a step closer to close count final\n",
    "i = 0\n",
    "while i < len(df):\n",
    "    for i in range (0,len(df['Date/Time'])):\n",
    "        if i == 0:\n",
    "            df.loc[i,'CloseCounterFinal'] = df.loc[i,'CloseCounterHelper']\n",
    "        elif i == 251:\n",
    "            df.loc[i,'CloseCounterFinal'] = df.loc[i,'CloseCounterHelper']\n",
    "        elif (df.loc[i,'CloseCounterHelper'] == df.loc[i,'OpenCounterFinal']):\n",
    "            df.loc[i,'CloseCounterFinal'] = 0\n",
    "        elif (df.loc[i,'CloseCounterHelper'] != df.loc[i-1,'CloseCounterHelper']):\n",
    "            df.loc[i,'CloseCounterFinal'] = df.loc[i,'CloseCounterHelper']\n",
    "        elif (df.loc[i,'CloseCounterHelper'] != df.loc[i+1,'CloseCounterHelper']):\n",
    "            df.loc[i,'CloseCounterFinal'] = df.loc[i,'CloseCounterHelper']\n",
    "        else:\n",
    "            df.loc[i,'CloseCounterFinal'] = 0\n",
    "        i += 1"
   ]
  },
  {
   "cell_type": "code",
   "execution_count": 17,
   "id": "e8db1eea",
   "metadata": {},
   "outputs": [],
   "source": [
    "#the final open count\n",
    "i = 0\n",
    "while i < len(df):\n",
    "    for i in range (0,len(df['Date/Time'])):\n",
    "        if i == 251:\n",
    "            df.loc[i,'CloseFinal1'] = df.loc[i,'CloseCounterFinal']\n",
    "        elif df.loc[i+1,'CloseCounterFinal'] != 0:\n",
    "            df.loc[i,'CloseFinal1'] = 0\n",
    "        else:\n",
    "            df.loc[i,'CloseFinal1'] = df.loc[i,'CloseCounterFinal']\n",
    "        i += 1"
   ]
  },
  {
   "cell_type": "markdown",
   "id": "8873887f",
   "metadata": {},
   "source": [
    "### thus the main open counter column = 'OpenCounterFinal' and for close it is 'CloseFinal1' "
   ]
  },
  {
   "cell_type": "code",
   "execution_count": 18,
   "id": "e30c4d03",
   "metadata": {
    "scrolled": true
   },
   "outputs": [],
   "source": [
    "i = 0\n",
    "while i < len(df):\n",
    "    for i in range (0,len(df['Date/Time'])):\n",
    "        if df.loc[i,'OpenCounterFinal'] != 0:\n",
    "            df.loc[i,'BuyPrice'] = df.loc[i,'Open']\n",
    "        else:\n",
    "            df.loc[i,'BuyPrice'] = 0\n",
    "        i += 1\n",
    "\n",
    "j = 0\n",
    "while j < len(df):\n",
    "    for j in range (0,len(df['Date/Time'])):\n",
    "        if df.loc[j,'CloseFinal1'] != 0:\n",
    "            df.loc[j,'SellPrice'] = df.loc[j,'Close']\n",
    "        else:\n",
    "            df.loc[j,'SellPrice'] = 0\n",
    "        j += 1\n",
    "        \n",
    "#display(df)"
   ]
  },
  {
   "cell_type": "code",
   "execution_count": null,
   "id": "bd57ae28",
   "metadata": {},
   "outputs": [],
   "source": [
    "\n",
    "      "
   ]
  },
  {
   "cell_type": "code",
   "execution_count": 19,
   "id": "3a32de60",
   "metadata": {
    "scrolled": true
   },
   "outputs": [],
   "source": [
    "BuyData = pd.DataFrame({\n",
    "    'Buy':[],\n",
    "    'Month': []})\n",
    "\n",
    "i = 0\n",
    "while i < len(df):\n",
    "    for i in range (0,len(df)):\n",
    "        if df.loc[i,'BuyPrice'] != 0:\n",
    "            BuyData.loc[i,'Buy'] = df.loc[i,'BuyPrice']\n",
    "            BuyData.loc[i,'Month'] = df.loc[i,'Month']\n",
    "            \n",
    "        i+=1\n",
    "        \n",
    "BuyData.reset_index(inplace = True,drop = True)           \n",
    "#display(BuyData)\n"
   ]
  },
  {
   "cell_type": "code",
   "execution_count": 20,
   "id": "0b8ee527",
   "metadata": {
    "scrolled": true
   },
   "outputs": [],
   "source": [
    "SellData = pd.DataFrame({\n",
    "    'Sell':[]})\n",
    "\n",
    "i = 0\n",
    "while i < len(df):\n",
    "    for i in range (0,len(df)):\n",
    "        if df.loc[i,'SellPrice'] != 0:\n",
    "            SellData.loc[i,'Sell'] = df.loc[i,'SellPrice']\n",
    "        i+=1\n",
    "        \n",
    "SellData.reset_index(inplace = True,drop = True)            \n",
    "#display(SellData)"
   ]
  },
  {
   "cell_type": "code",
   "execution_count": 21,
   "id": "74f9a610",
   "metadata": {
    "scrolled": true
   },
   "outputs": [],
   "source": [
    "Returns = pd.merge(BuyData,SellData,left_index = True,right_index = True)\n",
    "\n",
    "#display(Returns)"
   ]
  },
  {
   "cell_type": "code",
   "execution_count": 22,
   "id": "b862dc98",
   "metadata": {
    "scrolled": true
   },
   "outputs": [],
   "source": [
    "Returns['ROC'] = ((Returns['Sell']/Returns['Buy'])-1)*100\n",
    "#display(Returns)"
   ]
  },
  {
   "cell_type": "code",
   "execution_count": 40,
   "id": "f6b7a416",
   "metadata": {},
   "outputs": [
    {
     "data": {
      "text/html": [
       "<div>\n",
       "<style scoped>\n",
       "    .dataframe tbody tr th:only-of-type {\n",
       "        vertical-align: middle;\n",
       "    }\n",
       "\n",
       "    .dataframe tbody tr th {\n",
       "        vertical-align: top;\n",
       "    }\n",
       "\n",
       "    .dataframe thead th {\n",
       "        text-align: right;\n",
       "    }\n",
       "</style>\n",
       "<table border=\"1\" class=\"dataframe\">\n",
       "  <thead>\n",
       "    <tr style=\"text-align: right;\">\n",
       "      <th></th>\n",
       "      <th>January</th>\n",
       "    </tr>\n",
       "  </thead>\n",
       "  <tbody>\n",
       "    <tr>\n",
       "      <th>0</th>\n",
       "      <td>-0.332486</td>\n",
       "    </tr>\n",
       "    <tr>\n",
       "      <th>1</th>\n",
       "      <td>2.733990</td>\n",
       "    </tr>\n",
       "    <tr>\n",
       "      <th>2</th>\n",
       "      <td>3.405195</td>\n",
       "    </tr>\n",
       "    <tr>\n",
       "      <th>3</th>\n",
       "      <td>-2.570000</td>\n",
       "    </tr>\n",
       "    <tr>\n",
       "      <th>4</th>\n",
       "      <td>6.504755</td>\n",
       "    </tr>\n",
       "  </tbody>\n",
       "</table>\n",
       "</div>"
      ],
      "text/plain": [
       "    January\n",
       "0 -0.332486\n",
       "1  2.733990\n",
       "2  3.405195\n",
       "3 -2.570000\n",
       "4  6.504755"
      ]
     },
     "metadata": {},
     "output_type": "display_data"
    }
   ],
   "source": [
    "Table1 = pd.DataFrame({'January':[]})\n",
    "\n",
    "i = 0\n",
    "while i < len(Returns):\n",
    "    for i in range (0,len(Returns)):\n",
    "        if Returns.loc[i,'Month'] == '01':\n",
    "            Table1.loc[i,'January'] = Returns.loc[i,'ROC']\n",
    "        i+=1   \n",
    "display(Table1)"
   ]
  },
  {
   "cell_type": "code",
   "execution_count": 24,
   "id": "82e2f81f",
   "metadata": {},
   "outputs": [
    {
     "data": {
      "text/html": [
       "<div>\n",
       "<style scoped>\n",
       "    .dataframe tbody tr th:only-of-type {\n",
       "        vertical-align: middle;\n",
       "    }\n",
       "\n",
       "    .dataframe tbody tr th {\n",
       "        vertical-align: top;\n",
       "    }\n",
       "\n",
       "    .dataframe thead th {\n",
       "        text-align: right;\n",
       "    }\n",
       "</style>\n",
       "<table border=\"1\" class=\"dataframe\">\n",
       "  <thead>\n",
       "    <tr style=\"text-align: right;\">\n",
       "      <th></th>\n",
       "      <th>February</th>\n",
       "    </tr>\n",
       "  </thead>\n",
       "  <tbody>\n",
       "    <tr>\n",
       "      <th>5</th>\n",
       "      <td>9.750480</td>\n",
       "    </tr>\n",
       "    <tr>\n",
       "      <th>6</th>\n",
       "      <td>5.296870</td>\n",
       "    </tr>\n",
       "    <tr>\n",
       "      <th>7</th>\n",
       "      <td>4.593332</td>\n",
       "    </tr>\n",
       "    <tr>\n",
       "      <th>8</th>\n",
       "      <td>-5.098416</td>\n",
       "    </tr>\n",
       "  </tbody>\n",
       "</table>\n",
       "</div>"
      ],
      "text/plain": [
       "   February\n",
       "5  9.750480\n",
       "6  5.296870\n",
       "7  4.593332\n",
       "8 -5.098416"
      ]
     },
     "metadata": {},
     "output_type": "display_data"
    }
   ],
   "source": [
    "Table2 = pd.DataFrame({'February':[]})\n",
    "\n",
    "i = 0\n",
    "while i < len(Returns):\n",
    "    for i in range (0,len(Returns)):\n",
    "        if Returns.loc[i,'Month'] == '02':\n",
    "            Table2.loc[i,'February'] = Returns.loc[i,'ROC']\n",
    "        i+=1   \n",
    "display(Table2)"
   ]
  },
  {
   "cell_type": "code",
   "execution_count": 25,
   "id": "fdcdcf70",
   "metadata": {},
   "outputs": [
    {
     "data": {
      "text/html": [
       "<div>\n",
       "<style scoped>\n",
       "    .dataframe tbody tr th:only-of-type {\n",
       "        vertical-align: middle;\n",
       "    }\n",
       "\n",
       "    .dataframe tbody tr th {\n",
       "        vertical-align: top;\n",
       "    }\n",
       "\n",
       "    .dataframe thead th {\n",
       "        text-align: right;\n",
       "    }\n",
       "</style>\n",
       "<table border=\"1\" class=\"dataframe\">\n",
       "  <thead>\n",
       "    <tr style=\"text-align: right;\">\n",
       "      <th></th>\n",
       "      <th>March</th>\n",
       "    </tr>\n",
       "  </thead>\n",
       "  <tbody>\n",
       "    <tr>\n",
       "      <th>9</th>\n",
       "      <td>-3.976445</td>\n",
       "    </tr>\n",
       "    <tr>\n",
       "      <th>10</th>\n",
       "      <td>-3.844394</td>\n",
       "    </tr>\n",
       "    <tr>\n",
       "      <th>11</th>\n",
       "      <td>-4.000601</td>\n",
       "    </tr>\n",
       "    <tr>\n",
       "      <th>12</th>\n",
       "      <td>14.250398</td>\n",
       "    </tr>\n",
       "    <tr>\n",
       "      <th>13</th>\n",
       "      <td>-0.613069</td>\n",
       "    </tr>\n",
       "  </tbody>\n",
       "</table>\n",
       "</div>"
      ],
      "text/plain": [
       "        March\n",
       "9   -3.976445\n",
       "10  -3.844394\n",
       "11  -4.000601\n",
       "12  14.250398\n",
       "13  -0.613069"
      ]
     },
     "metadata": {},
     "output_type": "display_data"
    }
   ],
   "source": [
    "Table3 = pd.DataFrame({'March':[]})\n",
    "\n",
    "i = 0\n",
    "while i < len(Returns):\n",
    "    for i in range (0,len(Returns)):\n",
    "        if Returns.loc[i,'Month'] == '03':\n",
    "            Table3.loc[i,'March'] = Returns.loc[i,'ROC']\n",
    "        i+=1   \n",
    "display(Table3)"
   ]
  },
  {
   "cell_type": "code",
   "execution_count": 26,
   "id": "81502b96",
   "metadata": {},
   "outputs": [
    {
     "data": {
      "text/html": [
       "<div>\n",
       "<style scoped>\n",
       "    .dataframe tbody tr th:only-of-type {\n",
       "        vertical-align: middle;\n",
       "    }\n",
       "\n",
       "    .dataframe tbody tr th {\n",
       "        vertical-align: top;\n",
       "    }\n",
       "\n",
       "    .dataframe thead th {\n",
       "        text-align: right;\n",
       "    }\n",
       "</style>\n",
       "<table border=\"1\" class=\"dataframe\">\n",
       "  <thead>\n",
       "    <tr style=\"text-align: right;\">\n",
       "      <th></th>\n",
       "      <th>April</th>\n",
       "    </tr>\n",
       "  </thead>\n",
       "  <tbody>\n",
       "    <tr>\n",
       "      <th>14</th>\n",
       "      <td>14.475384</td>\n",
       "    </tr>\n",
       "    <tr>\n",
       "      <th>15</th>\n",
       "      <td>-4.650862</td>\n",
       "    </tr>\n",
       "    <tr>\n",
       "      <th>16</th>\n",
       "      <td>3.612189</td>\n",
       "    </tr>\n",
       "    <tr>\n",
       "      <th>17</th>\n",
       "      <td>3.636957</td>\n",
       "    </tr>\n",
       "  </tbody>\n",
       "</table>\n",
       "</div>"
      ],
      "text/plain": [
       "        April\n",
       "14  14.475384\n",
       "15  -4.650862\n",
       "16   3.612189\n",
       "17   3.636957"
      ]
     },
     "metadata": {},
     "output_type": "display_data"
    }
   ],
   "source": [
    "Table4 = pd.DataFrame({'April':[]})\n",
    "\n",
    "i = 0\n",
    "while i < len(Returns):\n",
    "    for i in range (0,len(Returns)):\n",
    "        if Returns.loc[i,'Month'] == '04':\n",
    "            Table4.loc[i,'April'] = Returns.loc[i,'ROC']\n",
    "        i+=1   \n",
    "display(Table4)"
   ]
  },
  {
   "cell_type": "code",
   "execution_count": 27,
   "id": "38f6305d",
   "metadata": {},
   "outputs": [
    {
     "data": {
      "text/html": [
       "<div>\n",
       "<style scoped>\n",
       "    .dataframe tbody tr th:only-of-type {\n",
       "        vertical-align: middle;\n",
       "    }\n",
       "\n",
       "    .dataframe tbody tr th {\n",
       "        vertical-align: top;\n",
       "    }\n",
       "\n",
       "    .dataframe thead th {\n",
       "        text-align: right;\n",
       "    }\n",
       "</style>\n",
       "<table border=\"1\" class=\"dataframe\">\n",
       "  <thead>\n",
       "    <tr style=\"text-align: right;\">\n",
       "      <th></th>\n",
       "      <th>May</th>\n",
       "    </tr>\n",
       "  </thead>\n",
       "  <tbody>\n",
       "    <tr>\n",
       "      <th>18</th>\n",
       "      <td>-2.389404</td>\n",
       "    </tr>\n",
       "    <tr>\n",
       "      <th>19</th>\n",
       "      <td>2.359649</td>\n",
       "    </tr>\n",
       "    <tr>\n",
       "      <th>20</th>\n",
       "      <td>2.798971</td>\n",
       "    </tr>\n",
       "    <tr>\n",
       "      <th>21</th>\n",
       "      <td>-2.977768</td>\n",
       "    </tr>\n",
       "  </tbody>\n",
       "</table>\n",
       "</div>"
      ],
      "text/plain": [
       "         May\n",
       "18 -2.389404\n",
       "19  2.359649\n",
       "20  2.798971\n",
       "21 -2.977768"
      ]
     },
     "metadata": {},
     "output_type": "display_data"
    }
   ],
   "source": [
    "Table5 = pd.DataFrame({'May':[]})\n",
    "\n",
    "i = 0\n",
    "while i < len(Returns):\n",
    "    for i in range (0,len(Returns)):\n",
    "        if Returns.loc[i,'Month'] == '05':\n",
    "            Table5.loc[i,'May'] = Returns.loc[i,'ROC']\n",
    "        i+=1   \n",
    "display(Table5)"
   ]
  },
  {
   "cell_type": "code",
   "execution_count": 28,
   "id": "de297010",
   "metadata": {},
   "outputs": [
    {
     "data": {
      "text/html": [
       "<div>\n",
       "<style scoped>\n",
       "    .dataframe tbody tr th:only-of-type {\n",
       "        vertical-align: middle;\n",
       "    }\n",
       "\n",
       "    .dataframe tbody tr th {\n",
       "        vertical-align: top;\n",
       "    }\n",
       "\n",
       "    .dataframe thead th {\n",
       "        text-align: right;\n",
       "    }\n",
       "</style>\n",
       "<table border=\"1\" class=\"dataframe\">\n",
       "  <thead>\n",
       "    <tr style=\"text-align: right;\">\n",
       "      <th></th>\n",
       "      <th>June</th>\n",
       "    </tr>\n",
       "  </thead>\n",
       "  <tbody>\n",
       "    <tr>\n",
       "      <th>22</th>\n",
       "      <td>7.710875</td>\n",
       "    </tr>\n",
       "    <tr>\n",
       "      <th>23</th>\n",
       "      <td>-4.849206</td>\n",
       "    </tr>\n",
       "    <tr>\n",
       "      <th>24</th>\n",
       "      <td>-0.415086</td>\n",
       "    </tr>\n",
       "    <tr>\n",
       "      <th>25</th>\n",
       "      <td>-3.026205</td>\n",
       "    </tr>\n",
       "    <tr>\n",
       "      <th>26</th>\n",
       "      <td>-0.185234</td>\n",
       "    </tr>\n",
       "  </tbody>\n",
       "</table>\n",
       "</div>"
      ],
      "text/plain": [
       "        June\n",
       "22  7.710875\n",
       "23 -4.849206\n",
       "24 -0.415086\n",
       "25 -3.026205\n",
       "26 -0.185234"
      ]
     },
     "metadata": {},
     "output_type": "display_data"
    }
   ],
   "source": [
    "Table6 = pd.DataFrame({'June':[]})\n",
    "\n",
    "i = 0\n",
    "while i < len(Returns):\n",
    "    for i in range (0,len(Returns)):\n",
    "        if Returns.loc[i,'Month'] == '06':\n",
    "            Table6.loc[i,'June'] = Returns.loc[i,'ROC']\n",
    "        i+=1   \n",
    "display(Table6)"
   ]
  },
  {
   "cell_type": "code",
   "execution_count": 29,
   "id": "6322b6d0",
   "metadata": {},
   "outputs": [
    {
     "data": {
      "text/html": [
       "<div>\n",
       "<style scoped>\n",
       "    .dataframe tbody tr th:only-of-type {\n",
       "        vertical-align: middle;\n",
       "    }\n",
       "\n",
       "    .dataframe tbody tr th {\n",
       "        vertical-align: top;\n",
       "    }\n",
       "\n",
       "    .dataframe thead th {\n",
       "        text-align: right;\n",
       "    }\n",
       "</style>\n",
       "<table border=\"1\" class=\"dataframe\">\n",
       "  <thead>\n",
       "    <tr style=\"text-align: right;\">\n",
       "      <th></th>\n",
       "      <th>July</th>\n",
       "    </tr>\n",
       "  </thead>\n",
       "  <tbody>\n",
       "    <tr>\n",
       "      <th>27</th>\n",
       "      <td>1.162892</td>\n",
       "    </tr>\n",
       "    <tr>\n",
       "      <th>28</th>\n",
       "      <td>-9.968100</td>\n",
       "    </tr>\n",
       "    <tr>\n",
       "      <th>29</th>\n",
       "      <td>2.601141</td>\n",
       "    </tr>\n",
       "    <tr>\n",
       "      <th>30</th>\n",
       "      <td>0.951566</td>\n",
       "    </tr>\n",
       "  </tbody>\n",
       "</table>\n",
       "</div>"
      ],
      "text/plain": [
       "        July\n",
       "27  1.162892\n",
       "28 -9.968100\n",
       "29  2.601141\n",
       "30  0.951566"
      ]
     },
     "metadata": {},
     "output_type": "display_data"
    }
   ],
   "source": [
    "Table7 = pd.DataFrame({'July':[]})\n",
    "\n",
    "i = 0\n",
    "while i < len(Returns):\n",
    "    for i in range (0,len(Returns)):\n",
    "        if Returns.loc[i,'Month'] == '07':\n",
    "            Table7.loc[i,'July'] = Returns.loc[i,'ROC']\n",
    "        i+=1   \n",
    "display(Table7)"
   ]
  },
  {
   "cell_type": "code",
   "execution_count": 30,
   "id": "1053d685",
   "metadata": {},
   "outputs": [
    {
     "data": {
      "text/html": [
       "<div>\n",
       "<style scoped>\n",
       "    .dataframe tbody tr th:only-of-type {\n",
       "        vertical-align: middle;\n",
       "    }\n",
       "\n",
       "    .dataframe tbody tr th {\n",
       "        vertical-align: top;\n",
       "    }\n",
       "\n",
       "    .dataframe thead th {\n",
       "        text-align: right;\n",
       "    }\n",
       "</style>\n",
       "<table border=\"1\" class=\"dataframe\">\n",
       "  <thead>\n",
       "    <tr style=\"text-align: right;\">\n",
       "      <th></th>\n",
       "      <th>August</th>\n",
       "    </tr>\n",
       "  </thead>\n",
       "  <tbody>\n",
       "    <tr>\n",
       "      <th>31</th>\n",
       "      <td>3.369266</td>\n",
       "    </tr>\n",
       "    <tr>\n",
       "      <th>32</th>\n",
       "      <td>1.851852</td>\n",
       "    </tr>\n",
       "    <tr>\n",
       "      <th>33</th>\n",
       "      <td>3.596974</td>\n",
       "    </tr>\n",
       "    <tr>\n",
       "      <th>34</th>\n",
       "      <td>2.178462</td>\n",
       "    </tr>\n",
       "    <tr>\n",
       "      <th>35</th>\n",
       "      <td>-2.064031</td>\n",
       "    </tr>\n",
       "  </tbody>\n",
       "</table>\n",
       "</div>"
      ],
      "text/plain": [
       "      August\n",
       "31  3.369266\n",
       "32  1.851852\n",
       "33  3.596974\n",
       "34  2.178462\n",
       "35 -2.064031"
      ]
     },
     "metadata": {},
     "output_type": "display_data"
    }
   ],
   "source": [
    "Table8 = pd.DataFrame({'August':[]})\n",
    "\n",
    "i = 0\n",
    "while i < len(Returns):\n",
    "    for i in range (0,len(Returns)):\n",
    "        if Returns.loc[i,'Month'] == '08':\n",
    "            Table8.loc[i,'August'] = Returns.loc[i,'ROC']\n",
    "        i+=1   \n",
    "display(Table8)"
   ]
  },
  {
   "cell_type": "code",
   "execution_count": 31,
   "id": "fab2b2c2",
   "metadata": {},
   "outputs": [
    {
     "data": {
      "text/html": [
       "<div>\n",
       "<style scoped>\n",
       "    .dataframe tbody tr th:only-of-type {\n",
       "        vertical-align: middle;\n",
       "    }\n",
       "\n",
       "    .dataframe tbody tr th {\n",
       "        vertical-align: top;\n",
       "    }\n",
       "\n",
       "    .dataframe thead th {\n",
       "        text-align: right;\n",
       "    }\n",
       "</style>\n",
       "<table border=\"1\" class=\"dataframe\">\n",
       "  <thead>\n",
       "    <tr style=\"text-align: right;\">\n",
       "      <th></th>\n",
       "      <th>September</th>\n",
       "    </tr>\n",
       "  </thead>\n",
       "  <tbody>\n",
       "    <tr>\n",
       "      <th>36</th>\n",
       "      <td>-1.350220</td>\n",
       "    </tr>\n",
       "    <tr>\n",
       "      <th>37</th>\n",
       "      <td>-4.486667</td>\n",
       "    </tr>\n",
       "    <tr>\n",
       "      <th>38</th>\n",
       "      <td>-3.324138</td>\n",
       "    </tr>\n",
       "    <tr>\n",
       "      <th>39</th>\n",
       "      <td>3.500876</td>\n",
       "    </tr>\n",
       "  </tbody>\n",
       "</table>\n",
       "</div>"
      ],
      "text/plain": [
       "    September\n",
       "36  -1.350220\n",
       "37  -4.486667\n",
       "38  -3.324138\n",
       "39   3.500876"
      ]
     },
     "metadata": {},
     "output_type": "display_data"
    }
   ],
   "source": [
    "Table9 = pd.DataFrame({'September':[]})\n",
    "\n",
    "i = 0\n",
    "while i < len(Returns):\n",
    "    for i in range (0,len(Returns)):\n",
    "        if Returns.loc[i,'Month'] == '09':\n",
    "            Table9.loc[i,'September'] = Returns.loc[i,'ROC']\n",
    "        i+=1   \n",
    "display(Table9)"
   ]
  },
  {
   "cell_type": "code",
   "execution_count": 32,
   "id": "7128b90f",
   "metadata": {},
   "outputs": [
    {
     "data": {
      "text/html": [
       "<div>\n",
       "<style scoped>\n",
       "    .dataframe tbody tr th:only-of-type {\n",
       "        vertical-align: middle;\n",
       "    }\n",
       "\n",
       "    .dataframe tbody tr th {\n",
       "        vertical-align: top;\n",
       "    }\n",
       "\n",
       "    .dataframe thead th {\n",
       "        text-align: right;\n",
       "    }\n",
       "</style>\n",
       "<table border=\"1\" class=\"dataframe\">\n",
       "  <thead>\n",
       "    <tr style=\"text-align: right;\">\n",
       "      <th></th>\n",
       "      <th>October</th>\n",
       "    </tr>\n",
       "  </thead>\n",
       "  <tbody>\n",
       "    <tr>\n",
       "      <th>40</th>\n",
       "      <td>-6.172051</td>\n",
       "    </tr>\n",
       "    <tr>\n",
       "      <th>41</th>\n",
       "      <td>-4.237452</td>\n",
       "    </tr>\n",
       "    <tr>\n",
       "      <th>42</th>\n",
       "      <td>7.490922</td>\n",
       "    </tr>\n",
       "    <tr>\n",
       "      <th>43</th>\n",
       "      <td>5.655660</td>\n",
       "    </tr>\n",
       "  </tbody>\n",
       "</table>\n",
       "</div>"
      ],
      "text/plain": [
       "     October\n",
       "40 -6.172051\n",
       "41 -4.237452\n",
       "42  7.490922\n",
       "43  5.655660"
      ]
     },
     "metadata": {},
     "output_type": "display_data"
    }
   ],
   "source": [
    "Table10 = pd.DataFrame({'October':[]})\n",
    "\n",
    "i = 0\n",
    "while i < len(Returns):\n",
    "    for i in range (0,len(Returns)):\n",
    "        if Returns.loc[i,'Month'] == '10':\n",
    "            Table10.loc[i,'October'] = Returns.loc[i,'ROC']\n",
    "        i+=1   \n",
    "display(Table10)"
   ]
  },
  {
   "cell_type": "code",
   "execution_count": 33,
   "id": "10ff7044",
   "metadata": {},
   "outputs": [
    {
     "data": {
      "text/html": [
       "<div>\n",
       "<style scoped>\n",
       "    .dataframe tbody tr th:only-of-type {\n",
       "        vertical-align: middle;\n",
       "    }\n",
       "\n",
       "    .dataframe tbody tr th {\n",
       "        vertical-align: top;\n",
       "    }\n",
       "\n",
       "    .dataframe thead th {\n",
       "        text-align: right;\n",
       "    }\n",
       "</style>\n",
       "<table border=\"1\" class=\"dataframe\">\n",
       "  <thead>\n",
       "    <tr style=\"text-align: right;\">\n",
       "      <th></th>\n",
       "      <th>November</th>\n",
       "    </tr>\n",
       "  </thead>\n",
       "  <tbody>\n",
       "    <tr>\n",
       "      <th>44</th>\n",
       "      <td>2.437500</td>\n",
       "    </tr>\n",
       "    <tr>\n",
       "      <th>45</th>\n",
       "      <td>2.953102</td>\n",
       "    </tr>\n",
       "    <tr>\n",
       "      <th>46</th>\n",
       "      <td>0.355917</td>\n",
       "    </tr>\n",
       "    <tr>\n",
       "      <th>47</th>\n",
       "      <td>-3.045191</td>\n",
       "    </tr>\n",
       "  </tbody>\n",
       "</table>\n",
       "</div>"
      ],
      "text/plain": [
       "    November\n",
       "44  2.437500\n",
       "45  2.953102\n",
       "46  0.355917\n",
       "47 -3.045191"
      ]
     },
     "metadata": {},
     "output_type": "display_data"
    }
   ],
   "source": [
    "Table11 = pd.DataFrame({'November':[]})\n",
    "\n",
    "i = 0\n",
    "while i < len(Returns):\n",
    "    for i in range (0,len(Returns)):\n",
    "        if Returns.loc[i,'Month'] == '11':\n",
    "            Table11.loc[i,'November'] = Returns.loc[i,'ROC']\n",
    "        i+=1   \n",
    "display(Table11)"
   ]
  },
  {
   "cell_type": "code",
   "execution_count": 34,
   "id": "6e1d1ffe",
   "metadata": {},
   "outputs": [
    {
     "data": {
      "text/html": [
       "<div>\n",
       "<style scoped>\n",
       "    .dataframe tbody tr th:only-of-type {\n",
       "        vertical-align: middle;\n",
       "    }\n",
       "\n",
       "    .dataframe tbody tr th {\n",
       "        vertical-align: top;\n",
       "    }\n",
       "\n",
       "    .dataframe thead th {\n",
       "        text-align: right;\n",
       "    }\n",
       "</style>\n",
       "<table border=\"1\" class=\"dataframe\">\n",
       "  <thead>\n",
       "    <tr style=\"text-align: right;\">\n",
       "      <th></th>\n",
       "      <th>December</th>\n",
       "    </tr>\n",
       "  </thead>\n",
       "  <tbody>\n",
       "    <tr>\n",
       "      <th>48</th>\n",
       "      <td>4.802575</td>\n",
       "    </tr>\n",
       "    <tr>\n",
       "      <th>49</th>\n",
       "      <td>9.959458</td>\n",
       "    </tr>\n",
       "    <tr>\n",
       "      <th>50</th>\n",
       "      <td>-2.871087</td>\n",
       "    </tr>\n",
       "    <tr>\n",
       "      <th>51</th>\n",
       "      <td>1.062382</td>\n",
       "    </tr>\n",
       "    <tr>\n",
       "      <th>52</th>\n",
       "      <td>2.890970</td>\n",
       "    </tr>\n",
       "  </tbody>\n",
       "</table>\n",
       "</div>"
      ],
      "text/plain": [
       "    December\n",
       "48  4.802575\n",
       "49  9.959458\n",
       "50 -2.871087\n",
       "51  1.062382\n",
       "52  2.890970"
      ]
     },
     "metadata": {},
     "output_type": "display_data"
    }
   ],
   "source": [
    "Table12 = pd.DataFrame({'December':[]})\n",
    "\n",
    "i = 0\n",
    "while i < len(Returns):\n",
    "    for i in range (0,len(Returns)):\n",
    "        if Returns.loc[i,'Month'] == '12':\n",
    "            Table12.loc[i,'December'] = Returns.loc[i,'ROC']\n",
    "        i+=1   \n",
    "display(Table12)"
   ]
  },
  {
   "cell_type": "code",
   "execution_count": 44,
   "id": "a80e67ae",
   "metadata": {},
   "outputs": [
    {
     "data": {
      "text/html": [
       "<div>\n",
       "<style scoped>\n",
       "    .dataframe tbody tr th:only-of-type {\n",
       "        vertical-align: middle;\n",
       "    }\n",
       "\n",
       "    .dataframe tbody tr th {\n",
       "        vertical-align: top;\n",
       "    }\n",
       "\n",
       "    .dataframe thead th {\n",
       "        text-align: right;\n",
       "    }\n",
       "</style>\n",
       "<table border=\"1\" class=\"dataframe\">\n",
       "  <thead>\n",
       "    <tr style=\"text-align: right;\">\n",
       "      <th></th>\n",
       "      <th>January</th>\n",
       "      <th>February</th>\n",
       "    </tr>\n",
       "  </thead>\n",
       "  <tbody>\n",
       "  </tbody>\n",
       "</table>\n",
       "</div>"
      ],
      "text/plain": [
       "Empty DataFrame\n",
       "Columns: [January, February]\n",
       "Index: []"
      ]
     },
     "metadata": {},
     "output_type": "display_data"
    }
   ],
   "source": [
    "#Merging table 1 and 2\n",
    "#Returns = pd.merge(BuyData,SellData,left_index = True,right_index = True)\n",
    "H1 = pd.merge(Table1,Table2,left_index=True,right_index=True)\n",
    "display(H1)"
   ]
  },
  {
   "cell_type": "code",
   "execution_count": 38,
   "id": "15743bf5",
   "metadata": {
    "scrolled": true
   },
   "outputs": [],
   "source": [
    "#display(df)"
   ]
  },
  {
   "cell_type": "code",
   "execution_count": 37,
   "id": "da1ff106",
   "metadata": {},
   "outputs": [],
   "source": [
    "#df.to_csv('DmartOutput.csv')\n",
    "#Data.to_csv('ReturnsOutput.csv')"
   ]
  }
 ],
 "metadata": {
  "kernelspec": {
   "display_name": "Python 3 (ipykernel)",
   "language": "python",
   "name": "python3"
  },
  "language_info": {
   "codemirror_mode": {
    "name": "ipython",
    "version": 3
   },
   "file_extension": ".py",
   "mimetype": "text/x-python",
   "name": "python",
   "nbconvert_exporter": "python",
   "pygments_lexer": "ipython3",
   "version": "3.9.12"
  }
 },
 "nbformat": 4,
 "nbformat_minor": 5
}
