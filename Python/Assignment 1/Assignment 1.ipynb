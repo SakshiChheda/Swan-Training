{
 "cells": [
  {
   "cell_type": "markdown",
   "id": "b73fd8bc",
   "metadata": {},
   "source": [
    "## Assignment 1"
   ]
  },
  {
   "cell_type": "markdown",
   "id": "23a3f0ef",
   "metadata": {},
   "source": [
    "### Using the Dmart csv which contains the OHLC data for Dmart for last 1 year, perform the following things in python:\n",
    "\n",
    "1. Calculate the ROC of each day if we buy at open price and sell at close price and create a new dataframe(column) of the same\n",
    "2. Calculate the total ROC of all the days combined\n",
    "3. In a new dataframe named (type of trade), calculate if the the trade was winning trade(can be represented as 1) or losing trade (can be represented as 0)\n",
    " ( if roc>0, then it's a winning trade, otherwise losing trade)\n",
    "4. Calculate the total number of winning trades and losing trades \n",
    "5. Print step 2, step 4, and the final dataframe along with newly added columns"
   ]
  },
  {
   "cell_type": "code",
   "execution_count": 2,
   "id": "e986c51b",
   "metadata": {},
   "outputs": [],
   "source": [
    "import pandas as pd\n",
    "import numpy as np"
   ]
  },
  {
   "cell_type": "markdown",
   "id": "244931b3",
   "metadata": {},
   "source": [
    "#DmartFile = df"
   ]
  },
  {
   "cell_type": "code",
   "execution_count": null,
   "id": "b8dd0d78",
   "metadata": {},
   "outputs": [],
   "source": [
    "path = r'C:\\Users\\admin\\Desktop\\Sakshi\\6. Python\\Assignment 1\\Dmart.csv'\n",
    "#Please change the path of the file as per your pc after r'"
   ]
  },
  {
   "cell_type": "code",
   "execution_count": 106,
   "id": "d7439dbd",
   "metadata": {},
   "outputs": [],
   "source": [
    "df = pd.read_csv(path)"
   ]
  },
  {
   "cell_type": "code",
   "execution_count": 107,
   "id": "51645280",
   "metadata": {},
   "outputs": [],
   "source": [
    "(df['ROC']) = ((df['Close'] - df['Open']) / df['Open'])*100"
   ]
  },
  {
   "cell_type": "code",
   "execution_count": 112,
   "id": "93d8b42d",
   "metadata": {},
   "outputs": [
    {
     "name": "stdout",
     "output_type": "stream",
     "text": [
      "39.55490901534972\n"
     ]
    }
   ],
   "source": [
    "Total_ROC = sum(df['ROC'])\n",
    "print(Total_ROC)"
   ]
  },
  {
   "cell_type": "code",
   "execution_count": 113,
   "id": "751d6199",
   "metadata": {},
   "outputs": [],
   "source": [
    "df['Type_of_Trade'] = df['ROC'].apply (lambda x: 1 if x >= 0 else 0)"
   ]
  },
  {
   "cell_type": "code",
   "execution_count": 110,
   "id": "01642c0b",
   "metadata": {},
   "outputs": [
    {
     "name": "stdout",
     "output_type": "stream",
     "text": [
      "The total number of winning trades are:  123\n",
      "The total number of losing trades are:  129\n"
     ]
    }
   ],
   "source": [
    "Total_Winning_Trades = sum(df.Type_of_Trade == 1)\n",
    "print(\"The total number of winning trades are: \",Total_Winning_Trades)\n",
    "\n",
    "Total_Losing_Trades = sum(df.Type_of_Trade == 0)\n",
    "print(\"The total number of losing trades are: \",Total_Losing_Trades)"
   ]
  },
  {
   "cell_type": "code",
   "execution_count": 115,
   "id": "de6d8985",
   "metadata": {},
   "outputs": [],
   "source": [
    "df.to_csv('DMart_Output.csv')"
   ]
  }
 ],
 "metadata": {
  "kernelspec": {
   "display_name": "Python 3 (ipykernel)",
   "language": "python",
   "name": "python3"
  },
  "language_info": {
   "codemirror_mode": {
    "name": "ipython",
    "version": 3
   },
   "file_extension": ".py",
   "mimetype": "text/x-python",
   "name": "python",
   "nbconvert_exporter": "python",
   "pygments_lexer": "ipython3",
   "version": "3.9.12"
  }
 },
 "nbformat": 4,
 "nbformat_minor": 5
}
