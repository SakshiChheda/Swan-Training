{
 "cells": [
  {
   "cell_type": "markdown",
   "id": "2af00aed",
   "metadata": {},
   "source": [
    "## Assignment 1"
   ]
  },
  {
   "cell_type": "markdown",
   "id": "1e3ead9b",
   "metadata": {},
   "source": [
    "### Using the Dmart csv which contains the OHLC data for Dmart for last 1 year, perform the following things in python:\n",
    "\n",
    "1. Calculate the ROC of each day if we buy at open price and sell at close price and create a new dataframe(column) of the same\n",
    "2. Calculate the total ROC of all the days combined\n",
    "3. In a new dataframe named (type of trade), calculate if the the trade was winning trade(can be represented as 1) or losing trade (can be represented as 0)\n",
    " ( if roc>0, then it's a winning trade, otherwise losing trade)\n",
    "4. Calculate the total number of winning trades and losing trades \n",
    "5. Print step 2, step 4, and the final dataframe along with newly added columns"
   ]
  },
  {
   "cell_type": "code",
   "execution_count": 2,
   "id": "2a8342c9",
   "metadata": {},
   "outputs": [],
   "source": [
    "import pandas as pd\n",
    "import numpy as np"
   ]
  },
  {
   "cell_type": "markdown",
   "id": "1de1b610",
   "metadata": {},
   "source": [
    "#DmartFile = df"
   ]
  },
  {
   "cell_type": "code",
   "execution_count": 122,
   "id": "5f262ab2",
   "metadata": {},
   "outputs": [],
   "source": [
    "#Please change the path of the file as per your pc after r'\n",
    "path = r'C:\\Users\\admin\\Desktop\\Sakshi\\6. Python\\Assignment 1\\Dmart.csv'"
   ]
  },
  {
   "cell_type": "code",
   "execution_count": 123,
   "id": "014d071d",
   "metadata": {},
   "outputs": [],
   "source": [
    "df = pd.read_csv(path)"
   ]
  },
  {
   "cell_type": "code",
   "execution_count": 124,
   "id": "ee44da82",
   "metadata": {},
   "outputs": [],
   "source": [
    "(df['ROC']) = ((df['Close'] - df['Open']) / df['Open'])*100"
   ]
  },
  {
   "cell_type": "code",
   "execution_count": 125,
   "id": "245f642e",
   "metadata": {},
   "outputs": [
    {
     "name": "stdout",
     "output_type": "stream",
     "text": [
      "39.55490901534972\n"
     ]
    }
   ],
   "source": [
    "Total_ROC = sum(df['ROC'])\n",
    "print(Total_ROC)"
   ]
  },
  {
   "cell_type": "code",
   "execution_count": 126,
   "id": "bf6ec60e",
   "metadata": {},
   "outputs": [],
   "source": [
    "df['Type_of_Trade'] = df['ROC'].apply (lambda x: 1 if x > 0 else 0)"
   ]
  },
  {
   "cell_type": "code",
   "execution_count": 127,
   "id": "db256d68",
   "metadata": {},
   "outputs": [
    {
     "name": "stdout",
     "output_type": "stream",
     "text": [
      "The total number of winning trades are:  120\n",
      "The total number of losing trades are:  132\n"
     ]
    }
   ],
   "source": [
    "Total_Winning_Trades = sum(df.Type_of_Trade == 1)\n",
    "print(\"The total number of winning trades are: \",Total_Winning_Trades)\n",
    "\n",
    "Total_Losing_Trades = sum(df.Type_of_Trade == 0)\n",
    "print(\"The total number of losing trades are: \",Total_Losing_Trades)"
   ]
  },
  {
   "cell_type": "code",
   "execution_count": 128,
   "id": "d9bd9488",
   "metadata": {},
   "outputs": [],
   "source": [
    "df.to_csv('DMart_Output.csv')"
   ]
  },
  {
   "cell_type": "code",
   "execution_count": 129,
   "id": "23e17d16",
   "metadata": {},
   "outputs": [
    {
     "data": {
      "text/html": [
       "<div>\n",
       "<style scoped>\n",
       "    .dataframe tbody tr th:only-of-type {\n",
       "        vertical-align: middle;\n",
       "    }\n",
       "\n",
       "    .dataframe tbody tr th {\n",
       "        vertical-align: top;\n",
       "    }\n",
       "\n",
       "    .dataframe thead th {\n",
       "        text-align: right;\n",
       "    }\n",
       "</style>\n",
       "<table border=\"1\" class=\"dataframe\">\n",
       "  <thead>\n",
       "    <tr style=\"text-align: right;\">\n",
       "      <th></th>\n",
       "      <th>Ticker</th>\n",
       "      <th>Date/Time</th>\n",
       "      <th>Open</th>\n",
       "      <th>Low</th>\n",
       "      <th>High</th>\n",
       "      <th>Close</th>\n",
       "      <th>ROC</th>\n",
       "      <th>Type_of_Trade</th>\n",
       "    </tr>\n",
       "  </thead>\n",
       "  <tbody>\n",
       "    <tr>\n",
       "      <th>0</th>\n",
       "      <td>DMART.EQ-NSE</td>\n",
       "      <td>1/1/20</td>\n",
       "      <td>1849.70</td>\n",
       "      <td>1820.00</td>\n",
       "      <td>1867.00</td>\n",
       "      <td>1828.50</td>\n",
       "      <td>-1.146132</td>\n",
       "      <td>0</td>\n",
       "    </tr>\n",
       "    <tr>\n",
       "      <th>1</th>\n",
       "      <td>DMART.EQ-NSE</td>\n",
       "      <td>1/2/20</td>\n",
       "      <td>1831.00</td>\n",
       "      <td>1815.00</td>\n",
       "      <td>1854.85</td>\n",
       "      <td>1824.20</td>\n",
       "      <td>-0.371382</td>\n",
       "      <td>0</td>\n",
       "    </tr>\n",
       "    <tr>\n",
       "      <th>2</th>\n",
       "      <td>DMART.EQ-NSE</td>\n",
       "      <td>1/3/20</td>\n",
       "      <td>1827.00</td>\n",
       "      <td>1827.00</td>\n",
       "      <td>1853.00</td>\n",
       "      <td>1843.55</td>\n",
       "      <td>0.905857</td>\n",
       "      <td>1</td>\n",
       "    </tr>\n",
       "    <tr>\n",
       "      <th>3</th>\n",
       "      <td>DMART.EQ-NSE</td>\n",
       "      <td>1/6/20</td>\n",
       "      <td>1827.00</td>\n",
       "      <td>1780.00</td>\n",
       "      <td>1829.00</td>\n",
       "      <td>1789.90</td>\n",
       "      <td>-2.030651</td>\n",
       "      <td>0</td>\n",
       "    </tr>\n",
       "    <tr>\n",
       "      <th>4</th>\n",
       "      <td>DMART.EQ-NSE</td>\n",
       "      <td>1/7/20</td>\n",
       "      <td>1805.00</td>\n",
       "      <td>1805.00</td>\n",
       "      <td>1837.50</td>\n",
       "      <td>1815.75</td>\n",
       "      <td>0.595568</td>\n",
       "      <td>1</td>\n",
       "    </tr>\n",
       "    <tr>\n",
       "      <th>...</th>\n",
       "      <td>...</td>\n",
       "      <td>...</td>\n",
       "      <td>...</td>\n",
       "      <td>...</td>\n",
       "      <td>...</td>\n",
       "      <td>...</td>\n",
       "      <td>...</td>\n",
       "      <td>...</td>\n",
       "    </tr>\n",
       "    <tr>\n",
       "      <th>247</th>\n",
       "      <td>DMART.EQ-NSE</td>\n",
       "      <td>12/24/2020</td>\n",
       "      <td>2661.85</td>\n",
       "      <td>2604.80</td>\n",
       "      <td>2700.00</td>\n",
       "      <td>2673.10</td>\n",
       "      <td>0.422638</td>\n",
       "      <td>1</td>\n",
       "    </tr>\n",
       "    <tr>\n",
       "      <th>248</th>\n",
       "      <td>DMART.EQ-NSE</td>\n",
       "      <td>12/28/2020</td>\n",
       "      <td>2685.95</td>\n",
       "      <td>2655.00</td>\n",
       "      <td>2698.95</td>\n",
       "      <td>2678.00</td>\n",
       "      <td>-0.295985</td>\n",
       "      <td>0</td>\n",
       "    </tr>\n",
       "    <tr>\n",
       "      <th>249</th>\n",
       "      <td>DMART.EQ-NSE</td>\n",
       "      <td>12/29/2020</td>\n",
       "      <td>2690.00</td>\n",
       "      <td>2645.00</td>\n",
       "      <td>2694.70</td>\n",
       "      <td>2665.70</td>\n",
       "      <td>-0.903346</td>\n",
       "      <td>0</td>\n",
       "    </tr>\n",
       "    <tr>\n",
       "      <th>250</th>\n",
       "      <td>DMART.EQ-NSE</td>\n",
       "      <td>12/30/2020</td>\n",
       "      <td>2666.20</td>\n",
       "      <td>2642.35</td>\n",
       "      <td>2725.00</td>\n",
       "      <td>2680.30</td>\n",
       "      <td>0.528843</td>\n",
       "      <td>1</td>\n",
       "    </tr>\n",
       "    <tr>\n",
       "      <th>251</th>\n",
       "      <td>DMART.EQ-NSE</td>\n",
       "      <td>12/31/2020</td>\n",
       "      <td>2691.00</td>\n",
       "      <td>2670.00</td>\n",
       "      <td>2780.00</td>\n",
       "      <td>2763.60</td>\n",
       "      <td>2.697882</td>\n",
       "      <td>1</td>\n",
       "    </tr>\n",
       "  </tbody>\n",
       "</table>\n",
       "<p>252 rows × 8 columns</p>\n",
       "</div>"
      ],
      "text/plain": [
       "           Ticker   Date/Time     Open      Low     High    Close       ROC  \\\n",
       "0    DMART.EQ-NSE      1/1/20  1849.70  1820.00  1867.00  1828.50 -1.146132   \n",
       "1    DMART.EQ-NSE      1/2/20  1831.00  1815.00  1854.85  1824.20 -0.371382   \n",
       "2    DMART.EQ-NSE      1/3/20  1827.00  1827.00  1853.00  1843.55  0.905857   \n",
       "3    DMART.EQ-NSE      1/6/20  1827.00  1780.00  1829.00  1789.90 -2.030651   \n",
       "4    DMART.EQ-NSE      1/7/20  1805.00  1805.00  1837.50  1815.75  0.595568   \n",
       "..            ...         ...      ...      ...      ...      ...       ...   \n",
       "247  DMART.EQ-NSE  12/24/2020  2661.85  2604.80  2700.00  2673.10  0.422638   \n",
       "248  DMART.EQ-NSE  12/28/2020  2685.95  2655.00  2698.95  2678.00 -0.295985   \n",
       "249  DMART.EQ-NSE  12/29/2020  2690.00  2645.00  2694.70  2665.70 -0.903346   \n",
       "250  DMART.EQ-NSE  12/30/2020  2666.20  2642.35  2725.00  2680.30  0.528843   \n",
       "251  DMART.EQ-NSE  12/31/2020  2691.00  2670.00  2780.00  2763.60  2.697882   \n",
       "\n",
       "     Type_of_Trade  \n",
       "0                0  \n",
       "1                0  \n",
       "2                1  \n",
       "3                0  \n",
       "4                1  \n",
       "..             ...  \n",
       "247              1  \n",
       "248              0  \n",
       "249              0  \n",
       "250              1  \n",
       "251              1  \n",
       "\n",
       "[252 rows x 8 columns]"
      ]
     },
     "metadata": {},
     "output_type": "display_data"
    }
   ],
   "source": [
    "display(df)"
   ]
  }
 ],
 "metadata": {
  "kernelspec": {
   "display_name": "Python 3 (ipykernel)",
   "language": "python",
   "name": "python3"
  },
  "language_info": {
   "codemirror_mode": {
    "name": "ipython",
    "version": 3
   },
   "file_extension": ".py",
   "mimetype": "text/x-python",
   "name": "python",
   "nbconvert_exporter": "python",
   "pygments_lexer": "ipython3",
   "version": "3.9.12"
  }
 },
 "nbformat": 4,
 "nbformat_minor": 5
}
