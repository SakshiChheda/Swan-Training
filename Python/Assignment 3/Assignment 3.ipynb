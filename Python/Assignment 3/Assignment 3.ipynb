{
 "cells": [
  {
   "cell_type": "markdown",
   "id": "7b390bd5",
   "metadata": {},
   "source": [
    "# Assignment 3"
   ]
  },
  {
   "cell_type": "markdown",
   "id": "cb4c1fbb",
   "metadata": {},
   "source": [
    "### Using the same Dmart csv file as used in the previous assignment, you will have to perform the following things in python:\n",
    "\n",
    "1. Create 2 new empty Dataframes.\n",
    "2. Using while loop, append only the trades where ROC < -0.5% into one dataframe and ROC>+0.5% into another dataframe\n",
    "3. Calculate the total ROC of both these dataframes separately\n",
    "4. Calculate the number of trades in each dataframe\n",
    "5. Print Step 3 and 4\n",
    "\n",
    "Now, using the original Dmart csv, perform the following actions\n",
    "1. Using a while loop, calculate the cumulative roc of each month. So for 12 different months, you will have 12 different ROCs\n",
    "2. Print ROC of each month. This could either be a list or a dataframe.\n"
   ]
  },
  {
   "cell_type": "code",
   "execution_count": 1,
   "id": "0df2796d",
   "metadata": {},
   "outputs": [],
   "source": [
    "import pandas as pd\n",
    "import numpy as np"
   ]
  },
  {
   "cell_type": "markdown",
   "id": "1e05ed36",
   "metadata": {},
   "source": [
    "## Part 1"
   ]
  },
  {
   "cell_type": "markdown",
   "id": "4312dd2f",
   "metadata": {},
   "source": [
    "#### DmartFile = df"
   ]
  },
  {
   "cell_type": "code",
   "execution_count": 2,
   "id": "f0289067",
   "metadata": {},
   "outputs": [],
   "source": [
    "#Please change the path of the file as per your pc after r'\n",
    "path = r'C:\\Users\\admin\\Desktop\\Sakshi\\6. Python\\Assignment 3\\Dmart.csv'"
   ]
  },
  {
   "cell_type": "code",
   "execution_count": 3,
   "id": "b9dd14da",
   "metadata": {},
   "outputs": [],
   "source": [
    "df = pd.read_csv(path)"
   ]
  },
  {
   "cell_type": "code",
   "execution_count": 4,
   "id": "7557769e",
   "metadata": {},
   "outputs": [],
   "source": [
    "(df['ROC']) = ((df['Close'] - df['Open']) / df['Open'])*100"
   ]
  },
  {
   "cell_type": "code",
   "execution_count": 5,
   "id": "dd93ebfa",
   "metadata": {},
   "outputs": [],
   "source": [
    "df['Type_of_Trade'] = df['ROC'].apply (lambda x: 1 if x > 0 else 0)"
   ]
  },
  {
   "cell_type": "code",
   "execution_count": 6,
   "id": "7bbe1980",
   "metadata": {},
   "outputs": [],
   "source": [
    "PositiveROC = pd.DataFrame({\n",
    "    'Ticker':[],\n",
    "    'Date/Time':[],\n",
    "    'Open':[],\n",
    "    'Low':[],\n",
    "    'High':[],\n",
    "    'Close':[],\n",
    "    'ROC':[]})"
   ]
  },
  {
   "cell_type": "code",
   "execution_count": 7,
   "id": "8b33f585",
   "metadata": {},
   "outputs": [],
   "source": [
    "NegativeROC = pd.DataFrame({\n",
    "    'Ticker':[],\n",
    "    'Date/Time':[],\n",
    "    'Open':[],\n",
    "    'Low':[],\n",
    "    'High':[],\n",
    "    'Close':[],\n",
    "    'ROC':[]})"
   ]
  },
  {
   "cell_type": "code",
   "execution_count": 8,
   "id": "1e35c69b",
   "metadata": {},
   "outputs": [],
   "source": [
    "counter = 0\n",
    "while counter < len(df):\n",
    "    for i,j in df.iterrows():\n",
    "        y = df.loc[i,'ROC']\n",
    "        #print(y)\n",
    "        if y > 0.5:\n",
    "            PositiveROC.loc[i,'Ticker'] = df.loc[i,'Ticker']\n",
    "            PositiveROC.loc[i,'Date/Time'] = df.loc[i,'Date/Time']\n",
    "            PositiveROC.loc[i,'Open'] = df.loc[i,'Open']\n",
    "            PositiveROC.loc[i,'Low'] = df.loc[i,'Low']\n",
    "            PositiveROC.loc[i,'High'] = df.loc[i,'High']\n",
    "            PositiveROC.loc[i,'Close'] = df.loc[i,'Close']\n",
    "            PositiveROC.loc[i,'ROC'] = df.loc[i,'ROC']\n",
    "            counter += 1\n",
    "        if y < -0.5:\n",
    "            NegativeROC.loc[i,'Ticker'] = df.loc[i,'Ticker']\n",
    "            NegativeROC.loc[i,'Date/Time'] = df.loc[i,'Date/Time']\n",
    "            NegativeROC.loc[i,'Open'] = df.loc[i,'Open']\n",
    "            NegativeROC.loc[i,'Low'] = df.loc[i,'Low']\n",
    "            NegativeROC.loc[i,'High'] = df.loc[i,'High']\n",
    "            NegativeROC.loc[i,'Close'] = df.loc[i,'Close']\n",
    "            NegativeROC.loc[i,'ROC'] = df.loc[i,'ROC']\n",
    "            counter += 1\n"
   ]
  },
  {
   "cell_type": "code",
   "execution_count": 9,
   "id": "0392906a",
   "metadata": {},
   "outputs": [
    {
     "name": "stdout",
     "output_type": "stream",
     "text": [
      "           Ticker   Date/Time    Open      Low     High    Close       ROC\n",
      "2    DMART.EQ-NSE      1/3/20  1827.0  1827.00  1853.00  1843.55  0.905857\n",
      "4    DMART.EQ-NSE      1/7/20  1805.0  1805.00  1837.50  1815.75  0.595568\n",
      "5    DMART.EQ-NSE      1/8/20  1793.0  1785.10  1837.05  1829.05  2.010597\n",
      "6    DMART.EQ-NSE      1/9/20  1850.0  1826.60  1904.00  1880.55  1.651351\n",
      "9    DMART.EQ-NSE   1/14/2020  1902.0  1892.15  1940.00  1930.75  1.511567\n",
      "..            ...         ...     ...      ...      ...      ...       ...\n",
      "238  DMART.EQ-NSE    12/11/20  2647.0  2632.00  2715.00  2685.10  1.439365\n",
      "243  DMART.EQ-NSE  12/18/2020  2574.0  2555.00  2650.00  2637.05  2.449495\n",
      "244  DMART.EQ-NSE  12/21/2020  2645.0  2460.80  2715.00  2682.40  1.413989\n",
      "250  DMART.EQ-NSE  12/30/2020  2666.2  2642.35  2725.00  2680.30  0.528843\n",
      "251  DMART.EQ-NSE  12/31/2020  2691.0  2670.00  2780.00  2763.60  2.697882\n",
      "\n",
      "[97 rows x 7 columns]\n"
     ]
    }
   ],
   "source": [
    "print(PositiveROC)"
   ]
  },
  {
   "cell_type": "code",
   "execution_count": 10,
   "id": "bb8c6b8c",
   "metadata": {},
   "outputs": [
    {
     "name": "stdout",
     "output_type": "stream",
     "text": [
      "The total count of trades that have ROC > 0.5% are:  97\n"
     ]
    }
   ],
   "source": [
    "Count_of_Trades_in_PositiveROC = PositiveROC['ROC'].count()\n",
    "print('The total count of trades that have ROC > 0.5% are: ',Count_of_Trades_in_PositiveROC)"
   ]
  },
  {
   "cell_type": "code",
   "execution_count": 11,
   "id": "99b578dd",
   "metadata": {},
   "outputs": [
    {
     "name": "stdout",
     "output_type": "stream",
     "text": [
      "           Ticker   Date/Time     Open      Low     High    Close       ROC\n",
      "0    DMART.EQ-NSE      1/1/20  1849.70  1820.00  1867.00  1828.50 -1.146132\n",
      "3    DMART.EQ-NSE      1/6/20  1827.00  1780.00  1829.00  1789.90 -2.030651\n",
      "8    DMART.EQ-NSE   1/13/2020  1925.00  1880.00  1940.15  1914.65 -0.537662\n",
      "13   DMART.EQ-NSE   1/20/2020  2000.00  1927.00  2004.45  1936.65 -3.167500\n",
      "14   DMART.EQ-NSE   1/21/2020  1930.00  1901.90  1959.55  1912.35 -0.914508\n",
      "..            ...         ...      ...      ...      ...      ...       ...\n",
      "240  DMART.EQ-NSE  12/15/2020  2672.00  2624.50  2688.90  2640.05 -1.195734\n",
      "241  DMART.EQ-NSE  12/16/2020  2650.05  2605.00  2678.45  2627.05 -0.867908\n",
      "242  DMART.EQ-NSE  12/17/2020  2645.00  2503.00  2650.00  2556.05 -3.362949\n",
      "245  DMART.EQ-NSE  12/22/2020  2676.00  2552.25  2678.30  2625.75 -1.877803\n",
      "249  DMART.EQ-NSE  12/29/2020  2690.00  2645.00  2694.70  2665.70 -0.903346\n",
      "\n",
      "[97 rows x 7 columns]\n"
     ]
    }
   ],
   "source": [
    "print(NegativeROC)"
   ]
  },
  {
   "cell_type": "code",
   "execution_count": 12,
   "id": "07c6c3ca",
   "metadata": {},
   "outputs": [
    {
     "name": "stdout",
     "output_type": "stream",
     "text": [
      "The total count of trades that have ROC < -0.5% are:  97\n"
     ]
    }
   ],
   "source": [
    "Count_of_Trades_in_NegativeROC = NegativeROC['ROC'].count()\n",
    "print('The total count of trades that have ROC < -0.5% are: ',Count_of_Trades_in_NegativeROC)"
   ]
  },
  {
   "cell_type": "markdown",
   "id": "bf46dbb4",
   "metadata": {},
   "source": [
    "## Part 2"
   ]
  },
  {
   "cell_type": "code",
   "execution_count": 16,
   "id": "30688b4d",
   "metadata": {},
   "outputs": [],
   "source": [
    "import calendar\n",
    "import warnings\n",
    "warnings.filterwarnings('ignore')\n",
    "from dateutil import parser\n",
    "\n",
    "df['month'] = np.nan\n",
    "\n",
    "for i in range (0,len(df['Date/Time'])):\n",
    "    date_string = df['Date/Time'][i]\n",
    "    date_object = parser.parse(date_string)\n",
    "    month1 = date_object.month\n",
    "    df['month'][i] = month1\n",
    "      \n",
    "#display(df)\n"
   ]
  },
  {
   "cell_type": "markdown",
   "id": "c0888dd3",
   "metadata": {},
   "source": [
    "import datetime\n",
    "\n",
    "df['month2'] = pd.to_datetime(df['Date/Time']).dt.month\n",
    "\n",
    "display(df)"
   ]
  },
  {
   "cell_type": "code",
   "execution_count": 15,
   "id": "a9d039a1",
   "metadata": {},
   "outputs": [
    {
     "name": "stdout",
     "output_type": "stream",
     "text": [
      "[9.817377767797861, 16.809118785069263, 13.889185065235784, 5.875323958838969, -4.546393827922146, -2.8666551613169586, -11.583627158123113, 3.7278553238795755, -7.170190573027108, -1.2260502478019988, 6.225495474284402, 10.603469608435217]\n"
     ]
    }
   ],
   "source": [
    "cumulative_monthly_sum = []\n",
    "counter = 0\n",
    "month = 1\n",
    "\n",
    "while counter < len(df):\n",
    "    summation = 0\n",
    "    for i,j in df.iterrows():\n",
    "        if df.loc[i,'month'] == month:\n",
    "            summation += df.loc[i,'ROC']\n",
    "            counter += 1\n",
    "    month += 1\n",
    "    cumulative_monthly_sum.append(summation)\n",
    "\n",
    "print(cumulative_monthly_sum)            \n",
    "        "
   ]
  }
 ],
 "metadata": {
  "kernelspec": {
   "display_name": "Python 3 (ipykernel)",
   "language": "python",
   "name": "python3"
  },
  "language_info": {
   "codemirror_mode": {
    "name": "ipython",
    "version": 3
   },
   "file_extension": ".py",
   "mimetype": "text/x-python",
   "name": "python",
   "nbconvert_exporter": "python",
   "pygments_lexer": "ipython3",
   "version": "3.9.12"
  }
 },
 "nbformat": 4,
 "nbformat_minor": 5
}
