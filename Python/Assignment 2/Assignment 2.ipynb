{
 "cells": [
  {
   "cell_type": "markdown",
   "id": "18a78fe1",
   "metadata": {},
   "source": [
    "# Assignment 2"
   ]
  },
  {
   "cell_type": "markdown",
   "id": "26bc3061",
   "metadata": {},
   "source": [
    "### Using the Dmart csv which contains the OHLC data for Dmart for last 1 year, perform the following things in python:\n",
    "\n",
    "1. Create a new empty Dataframe 'Winners'  with Columns [Date, Open, Close, ROC].\n",
    "2. Create a new empty Dataframe 'Losers'  with Columns [Date, Open, Close, ROC].\n",
    "3. Using for loop, append only the winning trades in 'Winners' Dataframe and only the Losing Trades in 'Losers' Dataframe\n",
    "4. Calculate the total ROC of 'Winners' and 'Losers' separately\n",
    "5. Print Step 3 and 4  "
   ]
  },
  {
   "cell_type": "code",
   "execution_count": 1,
   "id": "12310b5e",
   "metadata": {},
   "outputs": [],
   "source": [
    "import pandas as pd\n",
    "import numpy as np"
   ]
  },
  {
   "cell_type": "markdown",
   "id": "81e78cc8",
   "metadata": {},
   "source": [
    "#DmartFile = df"
   ]
  },
  {
   "cell_type": "code",
   "execution_count": 2,
   "id": "5f262ab2",
   "metadata": {},
   "outputs": [],
   "source": [
    "#Please change the path of the file as per your pc after r'\n",
    "path = r'C:\\Users\\admin\\Desktop\\Sakshi\\6. Python\\Assignment 2\\Dmart.csv'"
   ]
  },
  {
   "cell_type": "code",
   "execution_count": 3,
   "id": "014d071d",
   "metadata": {},
   "outputs": [],
   "source": [
    "df = pd.read_csv(path)"
   ]
  },
  {
   "cell_type": "code",
   "execution_count": 4,
   "id": "ee44da82",
   "metadata": {},
   "outputs": [],
   "source": [
    "(df['ROC']) = ((df['Close'] - df['Open']) / df['Open'])*100"
   ]
  },
  {
   "cell_type": "code",
   "execution_count": 5,
   "id": "e4701748",
   "metadata": {},
   "outputs": [],
   "source": [
    "df['Type_of_Trade'] = df['ROC'].apply (lambda x: 1 if x > 0 else 0)"
   ]
  },
  {
   "cell_type": "code",
   "execution_count": 6,
   "id": "9116f7e9",
   "metadata": {},
   "outputs": [],
   "source": [
    "Winners = pd.DataFrame({\n",
    "    'Date/Time':[],\n",
    "    'Open':[],\n",
    "    'Close':[],\n",
    "    'ROC':[]})"
   ]
  },
  {
   "cell_type": "code",
   "execution_count": 7,
   "id": "16ee8973",
   "metadata": {},
   "outputs": [],
   "source": [
    "Losers = pd.DataFrame({\n",
    "    'Date/Time':[],\n",
    "    'Open':[],\n",
    "    'Close':[],\n",
    "    'ROC':[]})"
   ]
  },
  {
   "cell_type": "code",
   "execution_count": 8,
   "id": "ea5422aa",
   "metadata": {
    "scrolled": true
   },
   "outputs": [],
   "source": [
    "for i,j in df.iterrows():\n",
    "    y = df.loc[i,'Type_of_Trade']\n",
    "    #print(y)\n",
    "    if y == 1:\n",
    "        #print(i,j)\n",
    "        Winners.loc[i,'Date/Time'] = df.loc[i,'Date/Time']\n",
    "        Winners.loc[i,'Open'] = df.loc[i,'Open']\n",
    "        Winners.loc[i,'Close'] = df.loc[i,'Close']\n",
    "        Winners.loc[i,'ROC'] = df.loc[i,'ROC']\n",
    "        #print(Winners.loc[i,'Date/Time'],Winners.loc[i,'Open'],Winners.loc[i,'Close'],Winners.loc[i,'ROC'])\n",
    "        #Date = (Winners.loc[i,'Date/Time'])\n",
    "        #Open = float(Winners.loc[i,'Open'])\n",
    "        #Close = float(Winners.loc[i,'Close'])\n",
    "        #ROC = float(Winners.loc[i,'ROC'])\n",
    "        #Winners.append(Date)\n",
    "        #Winners.append(Winners.loc[i,'Date/Time'])\n",
    "        #Winners.append(Open)\n",
    "        #Winners.append(Close)\n",
    "        #Winners.append(ROC)\n",
    "        #Winners = Winners.append(Winners.loc[i,'Date/Time'])\n",
    "        #Winners = Winners.append(Winners.loc[i,'Open'])\n",
    "        #Winners = Winners.append(Winners.loc[i,'Close'])\n",
    "        #Winners = Winners.append(Winners.loc[i,'ROC'])\n",
    "        \n",
    "        #Winners = pd.DataFrame({\n",
    "            #'Date':[Winners.loc[i,'Date/Time']],\n",
    "            #'Open':[Winners.loc[i,'Open']],\n",
    "            #'Close':[Winners.loc[i,'Close']],\n",
    "            #'ROC':[Winners.loc[i,'ROC']]})\n",
    "    else:\n",
    "        Losers.loc[i,'Date/Time'] = df.loc[i,'Date/Time']\n",
    "        Losers.loc[i,'Open'] = df.loc[i,'Open']\n",
    "        Losers.loc[i,'Close'] = df.loc[i,'Close']\n",
    "        Losers.loc[i,'ROC'] = df.loc[i,'ROC']\n",
    "        \n",
    "\n",
    "        \n",
    "        \n",
    "        \n",
    "     "
   ]
  },
  {
   "cell_type": "code",
   "execution_count": 9,
   "id": "9d19ea29",
   "metadata": {},
   "outputs": [
    {
     "name": "stdout",
     "output_type": "stream",
     "text": [
      "      Date/Time     Open    Close       ROC\n",
      "2        1/3/20  1827.00  1843.55  0.905857\n",
      "4        1/7/20  1805.00  1815.75  0.595568\n",
      "5        1/8/20  1793.00  1829.05  2.010597\n",
      "6        1/9/20  1850.00  1880.55  1.651351\n",
      "9     1/14/2020  1902.00  1930.75  1.511567\n",
      "..          ...      ...      ...       ...\n",
      "244  12/21/2020  2645.00  2682.40  1.413989\n",
      "246  12/23/2020  2650.00  2661.85  0.447170\n",
      "247  12/24/2020  2661.85  2673.10  0.422638\n",
      "250  12/30/2020  2666.20  2680.30  0.528843\n",
      "251  12/31/2020  2691.00  2763.60  2.697882\n",
      "\n",
      "[120 rows x 4 columns]\n"
     ]
    }
   ],
   "source": [
    "print(Winners)"
   ]
  },
  {
   "cell_type": "code",
   "execution_count": 10,
   "id": "12c1573a",
   "metadata": {},
   "outputs": [
    {
     "name": "stdout",
     "output_type": "stream",
     "text": [
      "      Date/Time     Open    Close       ROC\n",
      "0        1/1/20  1849.70  1828.50 -1.146132\n",
      "1        1/2/20  1831.00  1824.20 -0.371382\n",
      "3        1/6/20  1827.00  1789.90 -2.030651\n",
      "7       1/10/20  1886.00  1876.95 -0.479852\n",
      "8     1/13/2020  1925.00  1914.65 -0.537662\n",
      "..          ...      ...      ...       ...\n",
      "241  12/16/2020  2650.05  2627.05 -0.867908\n",
      "242  12/17/2020  2645.00  2556.05 -3.362949\n",
      "245  12/22/2020  2676.00  2625.75 -1.877803\n",
      "248  12/28/2020  2685.95  2678.00 -0.295985\n",
      "249  12/29/2020  2690.00  2665.70 -0.903346\n",
      "\n",
      "[132 rows x 4 columns]\n"
     ]
    }
   ],
   "source": [
    "print(Losers)"
   ]
  },
  {
   "cell_type": "code",
   "execution_count": 11,
   "id": "cff02254",
   "metadata": {},
   "outputs": [
    {
     "name": "stdout",
     "output_type": "stream",
     "text": [
      "The total sum of winners is equal to  229.25372716494815\n"
     ]
    }
   ],
   "source": [
    "Total_Sum_of_Winners = Winners['ROC'].sum()\n",
    "print(\"The total sum of winners is equal to \",Total_Sum_of_Winners)"
   ]
  },
  {
   "cell_type": "code",
   "execution_count": 12,
   "id": "22330d21",
   "metadata": {},
   "outputs": [
    {
     "name": "stdout",
     "output_type": "stream",
     "text": [
      "The total sum of losers is equal to  -189.6988181495984\n"
     ]
    }
   ],
   "source": [
    "Total_Sum_of_Losers = Losers['ROC'].sum()\n",
    "print(\"The total sum of losers is equal to \",Total_Sum_of_Losers)"
   ]
  },
  {
   "cell_type": "code",
   "execution_count": 13,
   "id": "b2e1dc6b",
   "metadata": {},
   "outputs": [],
   "source": [
    "#keeping this for my own reference\n",
    "#display(df.loc[df['Type_of_Trade']==1])"
   ]
  }
 ],
 "metadata": {
  "kernelspec": {
   "display_name": "Python 3 (ipykernel)",
   "language": "python",
   "name": "python3"
  },
  "language_info": {
   "codemirror_mode": {
    "name": "ipython",
    "version": 3
   },
   "file_extension": ".py",
   "mimetype": "text/x-python",
   "name": "python",
   "nbconvert_exporter": "python",
   "pygments_lexer": "ipython3",
   "version": "3.9.12"
  }
 },
 "nbformat": 4,
 "nbformat_minor": 5
}
