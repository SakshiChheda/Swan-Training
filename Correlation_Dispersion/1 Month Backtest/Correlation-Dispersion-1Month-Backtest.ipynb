{
 "cells": [
  {
   "cell_type": "markdown",
   "id": "319dc9e2",
   "metadata": {},
   "source": [
    "# Correlation Dispersion"
   ]
  },
  {
   "cell_type": "markdown",
   "id": "fa7f225c",
   "metadata": {},
   "source": [
    "Part A: Stock Selection// Webscraping and downloading bhavcopies from 1 April 2022 to 28 April 2022"
   ]
  },
  {
   "cell_type": "code",
   "execution_count": 1,
   "id": "cfe30d0f",
   "metadata": {},
   "outputs": [],
   "source": [
    "import urllib\n",
    "import pandas as pd\n",
    "import numpy as np\n",
    "import datetime\n",
    "from zipfile import ZipFile\n",
    "import os\n",
    "import requests\n",
    "import glob\n",
    "import opstrat as op\n",
    "import math\n",
    "from scipy.stats import norm\n",
    "from numpy import log as ln\n",
    "from datetime import datetime,timedelta"
   ]
  },
  {
   "cell_type": "code",
   "execution_count": 2,
   "id": "4ccf467b",
   "metadata": {},
   "outputs": [],
   "source": [
    "#stock selection based on past month so past month dates\n",
    "DownloadStart = '01/04/2022'\n",
    "DownloadStop = '28/04/2022'"
   ]
  },
  {
   "cell_type": "code",
   "execution_count": 3,
   "id": "1c1832ca",
   "metadata": {},
   "outputs": [
    {
     "name": "stdout",
     "output_type": "stream",
     "text": [
      "DatetimeIndex(['2022-04-01', '2022-04-02', '2022-04-03', '2022-04-04',\n",
      "               '2022-04-05', '2022-04-06', '2022-04-07', '2022-04-08',\n",
      "               '2022-04-09', '2022-04-10', '2022-04-11', '2022-04-12',\n",
      "               '2022-04-13', '2022-04-14', '2022-04-15', '2022-04-16',\n",
      "               '2022-04-17', '2022-04-18', '2022-04-19', '2022-04-20',\n",
      "               '2022-04-21', '2022-04-22', '2022-04-23', '2022-04-24',\n",
      "               '2022-04-25', '2022-04-26', '2022-04-27', '2022-04-28'],\n",
      "              dtype='datetime64[ns]', freq='D')\n"
     ]
    }
   ],
   "source": [
    "#getting the list of dates\n",
    "StartDownload = datetime.strptime(DownloadStart,'%d/%m/%Y')\n",
    "StopDownload = datetime.strptime(DownloadStop,'%d/%m/%Y')\n",
    "\n",
    "DateIndex = pd.date_range(StartDownload,StopDownload-timedelta(days=0),freq='d')\n",
    "print(DateIndex)"
   ]
  },
  {
   "cell_type": "code",
   "execution_count": 4,
   "id": "7ae54398",
   "metadata": {},
   "outputs": [],
   "source": [
    "#downloading and unzipping the files in one folder\n",
    "\n",
    "import requests\n",
    "from zipfile import ZipFile\n",
    "import os.path\n",
    "    \n",
    "#link = \"https://www1.nseindia.com/content/historical/EQUITIES/2013/JAN/cm01JAN2013bhav.csv.zip\"\n",
    "link1 = \"https://www1.nseindia.com/content/historical/DERIVATIVES/\"\n",
    "joiner = \"/\"\n",
    "link2 = \"fo\"\n",
    "link3 = \"bhav.csv.zip\"\n",
    "path = r\"C:\\Users\\admin\\Desktop\\7. Correlation-Dispersion\\PrevMonthBhavcopy\\\\\"\n",
    "filenamehelp = \"bhav.csv\"\n",
    "\n",
    "for i in range(0,len(DateIndex)):\n",
    "    try:\n",
    "        Year = DateIndex[i].strftime('%Y')\n",
    "        Month = (DateIndex[i].strftime('%b')).upper()\n",
    "        Day = DateIndex[i].strftime('%d')\n",
    "        finallink = link1 + Year + joiner + Month + joiner + link2 + Day + Month + Year + link3\n",
    "        filename = link2 + Day + Month + Year + filenamehelp\n",
    "        completename = path + filename\n",
    "        df = pd.read_csv(finallink)\n",
    "        df.to_csv(completename + \".csv\")\n",
    "    except:\n",
    "        pass"
   ]
  },
  {
   "cell_type": "code",
   "execution_count": 5,
   "id": "ff13e421",
   "metadata": {
    "scrolled": true
   },
   "outputs": [],
   "source": [
    "#combining them all into 1 csv file\n",
    "\n",
    "files = os.path.join(\"C:\\\\Users\\\\admin\\\\Desktop\\\\7. Correlation-Dispersion\\\\PrevMonthBhavcopy\\\\\",\"*.csv\")\n",
    "files = glob.glob(files)\n",
    "newdf = pd.concat(map(pd.read_csv,files),ignore_index=True)\n",
    "newdf['Date'] = pd.to_datetime(newdf['TIMESTAMP'])\n"
   ]
  },
  {
   "cell_type": "code",
   "execution_count": 6,
   "id": "7a866b17",
   "metadata": {
    "scrolled": true
   },
   "outputs": [],
   "source": [
    "filtered = newdf[(newdf['INSTRUMENT']=='OPTSTK') & (newdf['OPTION_TYP']==\"CE\")]\n",
    "filtered.reset_index(inplace = True,drop = True)"
   ]
  },
  {
   "cell_type": "code",
   "execution_count": 7,
   "id": "937a8fa0",
   "metadata": {
    "scrolled": true
   },
   "outputs": [],
   "source": [
    "grouped = pd.DataFrame()\n",
    "grouped = filtered.groupby(['SYMBOL'])['CONTRACTS'].sum()\n",
    "grouped = grouped.to_frame().reset_index()\n",
    "grouped['Rank'] = grouped.rank(axis = 0,method = 'average',numeric_only=True,na_option='keep',ascending = False,pct=False)"
   ]
  },
  {
   "cell_type": "code",
   "execution_count": 8,
   "id": "8c1d16ca",
   "metadata": {
    "scrolled": true
   },
   "outputs": [
    {
     "data": {
      "text/html": [
       "<div>\n",
       "<style scoped>\n",
       "    .dataframe tbody tr th:only-of-type {\n",
       "        vertical-align: middle;\n",
       "    }\n",
       "\n",
       "    .dataframe tbody tr th {\n",
       "        vertical-align: top;\n",
       "    }\n",
       "\n",
       "    .dataframe thead th {\n",
       "        text-align: right;\n",
       "    }\n",
       "</style>\n",
       "<table border=\"1\" class=\"dataframe\">\n",
       "  <thead>\n",
       "    <tr style=\"text-align: right;\">\n",
       "      <th></th>\n",
       "      <th>SYMBOL</th>\n",
       "      <th>CONTRACTS</th>\n",
       "      <th>Rank</th>\n",
       "    </tr>\n",
       "  </thead>\n",
       "  <tbody>\n",
       "    <tr>\n",
       "      <th>78</th>\n",
       "      <td>RELIANCE</td>\n",
       "      <td>3556306</td>\n",
       "      <td>1.0</td>\n",
       "    </tr>\n",
       "    <tr>\n",
       "      <th>41</th>\n",
       "      <td>HDFCBANK</td>\n",
       "      <td>2849985</td>\n",
       "      <td>2.0</td>\n",
       "    </tr>\n",
       "    <tr>\n",
       "      <th>53</th>\n",
       "      <td>INFY</td>\n",
       "      <td>1858456</td>\n",
       "      <td>3.0</td>\n",
       "    </tr>\n",
       "    <tr>\n",
       "      <th>91</th>\n",
       "      <td>TCS</td>\n",
       "      <td>1605120</td>\n",
       "      <td>4.0</td>\n",
       "    </tr>\n",
       "    <tr>\n",
       "      <th>39</th>\n",
       "      <td>HDFC</td>\n",
       "      <td>1418455</td>\n",
       "      <td>5.0</td>\n",
       "    </tr>\n",
       "    <tr>\n",
       "      <th>...</th>\n",
       "      <td>...</td>\n",
       "      <td>...</td>\n",
       "      <td>...</td>\n",
       "    </tr>\n",
       "    <tr>\n",
       "      <th>49</th>\n",
       "      <td>IGL</td>\n",
       "      <td>110014</td>\n",
       "      <td>96.0</td>\n",
       "    </tr>\n",
       "    <tr>\n",
       "      <th>5</th>\n",
       "      <td>ASHOKLEY</td>\n",
       "      <td>108601</td>\n",
       "      <td>97.0</td>\n",
       "    </tr>\n",
       "    <tr>\n",
       "      <th>69</th>\n",
       "      <td>NMDC</td>\n",
       "      <td>108364</td>\n",
       "      <td>98.0</td>\n",
       "    </tr>\n",
       "    <tr>\n",
       "      <th>10</th>\n",
       "      <td>BAJAJ-AUTO</td>\n",
       "      <td>105166</td>\n",
       "      <td>99.0</td>\n",
       "    </tr>\n",
       "    <tr>\n",
       "      <th>30</th>\n",
       "      <td>EICHERMOT</td>\n",
       "      <td>101255</td>\n",
       "      <td>100.0</td>\n",
       "    </tr>\n",
       "  </tbody>\n",
       "</table>\n",
       "<p>100 rows × 3 columns</p>\n",
       "</div>"
      ],
      "text/plain": [
       "        SYMBOL  CONTRACTS   Rank\n",
       "78    RELIANCE    3556306    1.0\n",
       "41    HDFCBANK    2849985    2.0\n",
       "53        INFY    1858456    3.0\n",
       "91         TCS    1605120    4.0\n",
       "39        HDFC    1418455    5.0\n",
       "..         ...        ...    ...\n",
       "49         IGL     110014   96.0\n",
       "5     ASHOKLEY     108601   97.0\n",
       "69        NMDC     108364   98.0\n",
       "10  BAJAJ-AUTO     105166   99.0\n",
       "30   EICHERMOT     101255  100.0\n",
       "\n",
       "[100 rows x 3 columns]"
      ]
     },
     "metadata": {},
     "output_type": "display_data"
    }
   ],
   "source": [
    "finaldata = grouped[grouped['Rank']<=100]\n",
    "finaldata.reset_index(inplace = True,drop = True)\n",
    "finaldata = finaldata.sort_values(by = 'Rank', ascending = True)\n",
    "\n",
    "display(finaldata)"
   ]
  },
  {
   "cell_type": "markdown",
   "id": "70a49754",
   "metadata": {},
   "source": [
    "# Part 2"
   ]
  },
  {
   "cell_type": "code",
   "execution_count": 9,
   "id": "330bed5f",
   "metadata": {},
   "outputs": [],
   "source": [
    "nextmonthday1 = '29/04/2022'\n",
    "nextmonthlastday = '26/05/2022'"
   ]
  },
  {
   "cell_type": "code",
   "execution_count": 10,
   "id": "c357b8a6",
   "metadata": {},
   "outputs": [
    {
     "name": "stdout",
     "output_type": "stream",
     "text": [
      "[datetime.datetime(2022, 4, 29, 0, 0), datetime.datetime(2022, 5, 26, 0, 0)]\n"
     ]
    }
   ],
   "source": [
    "nextmonthday1 = datetime.strptime(nextmonthday1,'%d/%m/%Y')\n",
    "nextmonthlastday = datetime.strptime(nextmonthlastday,'%d/%m/%Y')\n",
    "\n",
    "DateIndex1 = [nextmonthday1,nextmonthlastday]\n",
    "print(DateIndex1)"
   ]
  },
  {
   "cell_type": "code",
   "execution_count": 11,
   "id": "91920988",
   "metadata": {},
   "outputs": [],
   "source": [
    "import requests\n",
    "from zipfile import ZipFile\n",
    "import os.path\n",
    "\n",
    "link1 = \"https://www1.nseindia.com/content/historical/DERIVATIVES/\"\n",
    "joiner = \"/\"\n",
    "link2 = \"fo\"\n",
    "link3 = \"bhav.csv.zip\"\n",
    "path = r\"C:\\Users\\admin\\Desktop\\7. Correlation-Dispersion\\NewBhavcopy\\\\\"\n",
    "filenamehelp = \"bhav.csv\"\n",
    "\n",
    "for i in range(0,len(DateIndex1)):\n",
    "    try:\n",
    "        Year = DateIndex1[i].strftime('%Y')\n",
    "        Month = (DateIndex1[i].strftime('%b')).upper()\n",
    "        Day = DateIndex1[i].strftime('%d')\n",
    "        finallink = link1 + Year + joiner + Month + joiner + link2 + Day + Month + Year + link3\n",
    "        filename = link2 + Day + Month + Year + filenamehelp\n",
    "        completename = path + filename\n",
    "        df = pd.read_csv(finallink)\n",
    "        df.to_csv(completename + \".csv\")       \n",
    "    except:\n",
    "        pass"
   ]
  },
  {
   "cell_type": "code",
   "execution_count": 12,
   "id": "29ecd164",
   "metadata": {
    "scrolled": true
   },
   "outputs": [],
   "source": [
    "import glob\n",
    "import os\n",
    "import pandas as pd\n",
    "\n",
    "files = os.path.join(\"C:\\\\Users\\\\admin\\\\Desktop\\\\7. Correlation-Dispersion\\\\NewBhavcopy\\\\\",\"*.csv\")\n",
    "files = glob.glob(files)\n",
    "newdf1 = pd.concat(map(pd.read_csv,files),ignore_index=True)\n",
    "newdf1['Date'] = pd.to_datetime(newdf1['TIMESTAMP'])\n"
   ]
  },
  {
   "cell_type": "code",
   "execution_count": 13,
   "id": "bcd618f8",
   "metadata": {
    "scrolled": true
   },
   "outputs": [],
   "source": [
    "datafilter = newdf1[(newdf1['INSTRUMENT']=='OPTSTK') & (newdf1['OPTION_TYP']==\"CE\") & (newdf1[\"EXPIRY_DT\"]==\"26-May-2022\") & (newdf1['Date']==nextmonthday1)]\n",
    "datafilter.reset_index(inplace = True,drop = True)"
   ]
  },
  {
   "cell_type": "code",
   "execution_count": 14,
   "id": "e6c825a4",
   "metadata": {
    "scrolled": true
   },
   "outputs": [],
   "source": [
    "for i in range (0,len(datafilter)):\n",
    "    if datafilter.loc[i,'SYMBOL'] in finaldata.values:\n",
    "        datafilter.loc[i,'Check'] = 1\n",
    "    else:\n",
    "        datafilter.loc[i,'Check'] = 0"
   ]
  },
  {
   "cell_type": "code",
   "execution_count": 15,
   "id": "10b5b789",
   "metadata": {
    "scrolled": true
   },
   "outputs": [],
   "source": [
    "newdata = datafilter[datafilter['Check']==1]\n",
    "newdata.reset_index(inplace = True,drop = True)"
   ]
  },
  {
   "cell_type": "code",
   "execution_count": 16,
   "id": "ac177b1f",
   "metadata": {
    "scrolled": true
   },
   "outputs": [],
   "source": [
    "# Downloading the EQ bhavcopy as on new month day 1 to get the spot price\n",
    "\n",
    "#link = https://www1.nseindia.com/content/historical/EQUITIES/2022/APR/cm29APR2022bhav.csv.zip\n",
    "link1 = \"https://www1.nseindia.com/content/historical/EQUITIES/\"\n",
    "joiner = \"/\"\n",
    "link2 = \"cm\"\n",
    "link3 = \"bhav.csv.zip\"\n",
    "path = r\"C:\\Users\\admin\\Desktop\\7. Correlation-Dispersion\\EQ\\\\\"\n",
    "filenamehelp = \"bhav.csv\"\n",
    "\n",
    "nextmonthday1 = '29/04/2022'\n",
    "nextmonthday1 = datetime.strptime(nextmonthday1,'%d/%m/%Y')\n",
    "Year = nextmonthday1.strftime('%Y')\n",
    "Month = (nextmonthday1.strftime('%b')).upper()\n",
    "Day = nextmonthday1.strftime('%d')\n",
    "finallink = link1 + Year + joiner + Month + joiner + link2 + Day + Month + Year + link3\n",
    "filename = link2 + Day + Month + Year + filenamehelp\n",
    "completename = path + filename\n",
    "df1 = pd.read_csv(finallink)\n",
    "df1.to_csv(completename + \".csv\")\n",
    "df2 = pd.read_csv(completename + \".csv\")\n"
   ]
  },
  {
   "cell_type": "code",
   "execution_count": 17,
   "id": "19dcbbfe",
   "metadata": {
    "scrolled": true
   },
   "outputs": [],
   "source": [
    "for i in range (0,len(df2)):\n",
    "    if df2.loc[i,'SYMBOL'] in finaldata.values:\n",
    "        df2.loc[i,'Check'] = 1\n",
    "    else:\n",
    "        df2.loc[i,'Check'] = 0        "
   ]
  },
  {
   "cell_type": "code",
   "execution_count": 18,
   "id": "c493b479",
   "metadata": {
    "scrolled": true
   },
   "outputs": [],
   "source": [
    "filterEQ = df2[(df2['Check']==1) & (df2['SERIES']=='EQ')]\n",
    "filterEQ.reset_index(inplace = True,drop = True)"
   ]
  },
  {
   "cell_type": "code",
   "execution_count": 19,
   "id": "5b66d11e",
   "metadata": {
    "scrolled": true
   },
   "outputs": [],
   "source": [
    "newEQ = pd.DataFrame()\n",
    "for i in range(0,len(filterEQ)):\n",
    "    newEQ.loc[i,'SYMBOL'] = filterEQ.loc[i,'SYMBOL']\n",
    "    newEQ.loc[i,'Spot'] = filterEQ.loc[i,'CLOSE']    "
   ]
  },
  {
   "cell_type": "code",
   "execution_count": 20,
   "id": "ef83944a",
   "metadata": {},
   "outputs": [],
   "source": [
    "finalEQ = newEQ.set_index('SYMBOL').T.to_dict('list')"
   ]
  },
  {
   "cell_type": "code",
   "execution_count": 21,
   "id": "c806d664",
   "metadata": {
    "scrolled": true
   },
   "outputs": [],
   "source": [
    "newdata['Spot'] = newdata['SYMBOL'].map(finalEQ)\n",
    "newdata['finalspot'] = newdata['Spot'].astype('string')\n",
    "\n",
    "for i in range (0,len(newdata)):\n",
    "    newdata.loc[i,'fspot'] = newdata.loc[i,'finalspot'][1:-1]  "
   ]
  },
  {
   "cell_type": "code",
   "execution_count": 22,
   "id": "e7edf063",
   "metadata": {
    "scrolled": true
   },
   "outputs": [],
   "source": [
    "riskfreerate = 6\n",
    "assumedvolatility = 30\n",
    "datetoday = '29/04/2022'\n",
    "expirydate = '26/05/2022'\n",
    "StartDate = datetime.strptime(datetoday,'%d/%m/%Y')\n",
    "StopDate = datetime.strptime(expirydate,'%d/%m/%Y')\n",
    "daystoexpiry = int(str(StopDate - StartDate)[0:2])\n",
    "\n",
    "for i in range(0,len(newdata)):\n",
    "    k = newdata.loc[i,'STRIKE_PR']\n",
    "    K = float(k)\n",
    "    st = newdata.loc[i,'fspot']\n",
    "    St = float(st)\n",
    "    AssumedPremium = op.black_scholes(K=K,St=St,r=riskfreerate,t=daystoexpiry,v=assumedvolatility,type='c')\n",
    "    newdata.loc[i,'AssumedPremium'] = AssumedPremium['value']['option value']   "
   ]
  },
  {
   "cell_type": "code",
   "execution_count": 23,
   "id": "c07645a3",
   "metadata": {
    "scrolled": true
   },
   "outputs": [],
   "source": [
    "for i in range(0,len(newdata)):\n",
    "    newdata.loc[i,'IV'] = ((newdata.loc[i,'CLOSE'])*(30))/newdata.loc[i,'AssumedPremium']    "
   ]
  },
  {
   "cell_type": "code",
   "execution_count": 24,
   "id": "b0e6cb81",
   "metadata": {
    "scrolled": true
   },
   "outputs": [],
   "source": [
    "riskfreerate = 6\n",
    "datetoday = '29/04/2022'\n",
    "expirydate = '26/05/2022'\n",
    "StartDate = datetime.strptime(datetoday,'%d/%m/%Y')\n",
    "StopDate = datetime.strptime(expirydate,'%d/%m/%Y')\n",
    "daystoexpiry = int(str(StopDate - StartDate)[0:2])\n",
    "\n",
    "for i in range(0,len(newdata)):\n",
    "    k = newdata.loc[i,'STRIKE_PR']\n",
    "    K = float(k)\n",
    "    st = newdata.loc[i,'fspot']\n",
    "    St = float(st)\n",
    "    v = newdata.loc[i,'IV']\n",
    "    Delta = op.black_scholes(K=K,St=St,r=riskfreerate,t=daystoexpiry,v=v,type='c')\n",
    "    newdata.loc[i,'Delta'] = Delta['greeks']['delta']\n",
    "    newdata.loc[i,'Symbol2'] = newdata.loc[i,'SYMBOL']\n",
    "    newdata.loc[i,'Delta2'] = newdata.loc[i,'Delta']"
   ]
  },
  {
   "cell_type": "code",
   "execution_count": 25,
   "id": "54f783a1",
   "metadata": {
    "scrolled": true
   },
   "outputs": [],
   "source": [
    "for i in range(0,len(newdata)):\n",
    "    newdata.loc[i,'difference'] = abs(newdata.loc[i,'Delta'] - 0.2)"
   ]
  },
  {
   "cell_type": "code",
   "execution_count": 26,
   "id": "b8a8e816",
   "metadata": {},
   "outputs": [
    {
     "data": {
      "text/html": [
       "<div>\n",
       "<style scoped>\n",
       "    .dataframe tbody tr th:only-of-type {\n",
       "        vertical-align: middle;\n",
       "    }\n",
       "\n",
       "    .dataframe tbody tr th {\n",
       "        vertical-align: top;\n",
       "    }\n",
       "\n",
       "    .dataframe thead th {\n",
       "        text-align: right;\n",
       "    }\n",
       "</style>\n",
       "<table border=\"1\" class=\"dataframe\">\n",
       "  <thead>\n",
       "    <tr style=\"text-align: right;\">\n",
       "      <th></th>\n",
       "      <th>difference</th>\n",
       "    </tr>\n",
       "    <tr>\n",
       "      <th>SYMBOL</th>\n",
       "      <th></th>\n",
       "    </tr>\n",
       "  </thead>\n",
       "  <tbody>\n",
       "    <tr>\n",
       "      <th>ACC</th>\n",
       "      <td>0.006163</td>\n",
       "    </tr>\n",
       "    <tr>\n",
       "      <th>ADANIENT</th>\n",
       "      <td>0.184170</td>\n",
       "    </tr>\n",
       "    <tr>\n",
       "      <th>ADANIPORTS</th>\n",
       "      <td>0.250364</td>\n",
       "    </tr>\n",
       "    <tr>\n",
       "      <th>AMBUJACEM</th>\n",
       "      <td>0.070894</td>\n",
       "    </tr>\n",
       "    <tr>\n",
       "      <th>APOLLOHOSP</th>\n",
       "      <td>0.165219</td>\n",
       "    </tr>\n",
       "    <tr>\n",
       "      <th>...</th>\n",
       "      <td>...</td>\n",
       "    </tr>\n",
       "    <tr>\n",
       "      <th>UPL</th>\n",
       "      <td>0.002690</td>\n",
       "    </tr>\n",
       "    <tr>\n",
       "      <th>VEDL</th>\n",
       "      <td>0.110404</td>\n",
       "    </tr>\n",
       "    <tr>\n",
       "      <th>VOLTAS</th>\n",
       "      <td>0.101368</td>\n",
       "    </tr>\n",
       "    <tr>\n",
       "      <th>WIPRO</th>\n",
       "      <td>0.121135</td>\n",
       "    </tr>\n",
       "    <tr>\n",
       "      <th>ZEEL</th>\n",
       "      <td>0.225166</td>\n",
       "    </tr>\n",
       "  </tbody>\n",
       "</table>\n",
       "<p>100 rows × 1 columns</p>\n",
       "</div>"
      ],
      "text/plain": [
       "            difference\n",
       "SYMBOL                \n",
       "ACC           0.006163\n",
       "ADANIENT      0.184170\n",
       "ADANIPORTS    0.250364\n",
       "AMBUJACEM     0.070894\n",
       "APOLLOHOSP    0.165219\n",
       "...                ...\n",
       "UPL           0.002690\n",
       "VEDL          0.110404\n",
       "VOLTAS        0.101368\n",
       "WIPRO         0.121135\n",
       "ZEEL          0.225166\n",
       "\n",
       "[100 rows x 1 columns]"
      ]
     },
     "metadata": {},
     "output_type": "display_data"
    }
   ],
   "source": [
    "final = newdata.groupby(['SYMBOL'])['difference'].min()\n",
    "final1 = final.to_frame()\n",
    "display(final1)"
   ]
  },
  {
   "cell_type": "code",
   "execution_count": 27,
   "id": "48bb4ea9",
   "metadata": {
    "scrolled": true
   },
   "outputs": [],
   "source": [
    "datamatch = final1.to_dict('index')"
   ]
  },
  {
   "cell_type": "code",
   "execution_count": 28,
   "id": "788a3bc2",
   "metadata": {
    "scrolled": true
   },
   "outputs": [],
   "source": [
    "newdata['match'] = newdata['Symbol2'].map(datamatch)\n",
    "\n",
    "for i in range (0,len(newdata)):\n",
    "    newdata.loc[i,'match1'] = str(newdata['match'][i])\n",
    "    newdata.loc[i,'difference1'] = str(newdata['difference'][i])\n",
    "    newdata.loc[i,'matcheddelta'] = newdata.loc[i,'match1'][15:-1]"
   ]
  },
  {
   "cell_type": "code",
   "execution_count": 29,
   "id": "68bcd8db",
   "metadata": {
    "scrolled": true
   },
   "outputs": [],
   "source": [
    "for i in range(0,len(newdata)):\n",
    "    if ((newdata['difference1'][i])) == ((newdata['matcheddelta'][i])):\n",
    "        newdata.loc[i,'1or0'] = 1\n",
    "    else:\n",
    "        newdata.loc[i,'1or0'] = 0"
   ]
  },
  {
   "cell_type": "code",
   "execution_count": 30,
   "id": "061dc44a",
   "metadata": {},
   "outputs": [],
   "source": [
    "fdf = pd.DataFrame()\n",
    "for i in range(0,len(newdata)):\n",
    "    if newdata['1or0'][i] == 1:\n",
    "        fdf.loc[i,'SYMBOL'] = newdata.loc[i,'SYMBOL']\n",
    "        fdf.loc[i,'Delta'] = newdata.loc[i,'Delta']\n",
    "        fdf.loc[i,'INSTRUMENT'] = newdata.loc[i,'INSTRUMENT']\n",
    "        fdf.loc[i,'EXPIRY_DT'] = newdata.loc[i,'EXPIRY_DT']\n",
    "        fdf.loc[i,'STRIKE_PR'] = newdata.loc[i,'STRIKE_PR']\n",
    "        fdf.loc[i,'OPTION_TYP'] = newdata.loc[i,'OPTION_TYP']\n",
    "        fdf.loc[i,'CLOSE'] = newdata.loc[i,'CLOSE']\n",
    "        fdf.loc[i,'Spot'] = newdata.loc[i,'fspot']\n",
    "        fdf.loc[i,'IV'] = newdata.loc[i,'IV']\n",
    "        fdf.loc[i,'Date'] = newdata.loc[i,'Date']\n",
    "    else:\n",
    "        continue\n",
    "fdf.reset_index(inplace = True,drop = True)"
   ]
  },
  {
   "cell_type": "markdown",
   "id": "562d6d21",
   "metadata": {},
   "source": [
    "# Part 3 - Nifty"
   ]
  },
  {
   "cell_type": "code",
   "execution_count": 31,
   "id": "b72b2e7b",
   "metadata": {
    "scrolled": true
   },
   "outputs": [],
   "source": [
    "nifty_filtered = newdf1[(newdf1['INSTRUMENT']=='OPTIDX') & (newdf1['OPTION_TYP']==\"CE\") & (newdf1['SYMBOL']=='NIFTY') & (newdf1['EXPIRY_DT']=='26-May-2022') & (newdf1['TIMESTAMP']=='29-APR-2022')]\n",
    "nifty_filtered.reset_index(inplace = True,drop = True)"
   ]
  },
  {
   "cell_type": "code",
   "execution_count": 32,
   "id": "e5ea9514",
   "metadata": {
    "scrolled": true
   },
   "outputs": [],
   "source": [
    "path = r\"C:\\Users\\admin\\Desktop\\7. Correlation-Dispersion\\Nifty_data.csv\"\n",
    "nifty_spot = pd.read_csv(path)\n",
    "nifty_spot['Date1'] = pd.to_datetime(nifty_spot['Date'])"
   ]
  },
  {
   "cell_type": "code",
   "execution_count": 33,
   "id": "d45f1dac",
   "metadata": {
    "scrolled": true
   },
   "outputs": [],
   "source": [
    "for i in range (0,len(nifty_filtered)):\n",
    "    nifty_filtered['Spot'] = nifty_spot['Close'][0]"
   ]
  },
  {
   "cell_type": "code",
   "execution_count": 34,
   "id": "bb5dbb4a",
   "metadata": {
    "scrolled": true
   },
   "outputs": [],
   "source": [
    "#bsm for nifty\n",
    "riskfreerate = 6\n",
    "assumedvolatility = 30\n",
    "datetoday = '29/04/2022'\n",
    "expirydate = '26/05/2022'\n",
    "StartDate = datetime.strptime(datetoday,'%d/%m/%Y')\n",
    "StopDate = datetime.strptime(expirydate,'%d/%m/%Y')\n",
    "daystoexpiry = int(str(StopDate - StartDate)[0:2])\n",
    "\n",
    "for i in range(0,len(nifty_filtered)):\n",
    "    k = nifty_filtered.loc[i,'STRIKE_PR']\n",
    "    K = float(k)\n",
    "    st = nifty_filtered.loc[i,'Spot']\n",
    "    St = float(st)\n",
    "    AssumedPremium = op.black_scholes(K=K,St=St,r=riskfreerate,t=daystoexpiry,v=assumedvolatility,type='c')\n",
    "    nifty_filtered.loc[i,'AssumedPremium'] = AssumedPremium['value']['option value']  "
   ]
  },
  {
   "cell_type": "code",
   "execution_count": 35,
   "id": "7b20fe3a",
   "metadata": {
    "scrolled": true
   },
   "outputs": [],
   "source": [
    "for i in range(0,len(nifty_filtered)):\n",
    "    nifty_filtered.loc[i,'IV'] = ((nifty_filtered.loc[i,'CLOSE'])*(30))/nifty_filtered.loc[i,'AssumedPremium']"
   ]
  },
  {
   "cell_type": "code",
   "execution_count": 36,
   "id": "8c4339d8",
   "metadata": {
    "scrolled": true
   },
   "outputs": [],
   "source": [
    "riskfreerate = 6\n",
    "datetoday = '29/04/2022'\n",
    "expirydate = '26/05/2022'\n",
    "StartDate = datetime.strptime(datetoday,'%d/%m/%Y')\n",
    "StopDate = datetime.strptime(expirydate,'%d/%m/%Y')\n",
    "daystoexpiry = int(str(StopDate - StartDate)[0:2])\n",
    "\n",
    "for i in range(0,len(nifty_filtered)):\n",
    "    k = nifty_filtered.loc[i,'STRIKE_PR']\n",
    "    K = float(k)\n",
    "    st = nifty_filtered.loc[i,'Spot']\n",
    "    St = float(st)\n",
    "    v = nifty_filtered.loc[i,'IV']\n",
    "    Delta = op.black_scholes(K=K,St=St,r=riskfreerate,t=daystoexpiry,v=v,type='c')\n",
    "    nifty_filtered.loc[i,'Delta'] = Delta['greeks']['delta']"
   ]
  },
  {
   "cell_type": "code",
   "execution_count": 37,
   "id": "2cf87b89",
   "metadata": {
    "scrolled": true
   },
   "outputs": [],
   "source": [
    "for i in range(0,len(nifty_filtered)):\n",
    "    nifty_filtered.loc[i,'difference'] = abs(nifty_filtered.loc[i,'Delta'] - 0.2)  \n",
    "nifty_filtered.to_csv('niftyfiltered.csv')"
   ]
  },
  {
   "cell_type": "code",
   "execution_count": 38,
   "id": "95a31d45",
   "metadata": {},
   "outputs": [],
   "source": [
    "nifty = nifty_filtered[nifty_filtered['difference']==nifty_filtered['difference'].min()]\n",
    "nifty1 = nifty.drop(['OPEN','HIGH','LOW','OPEN_INT','CHG_IN_OI','TIMESTAMP','SETTLE_PR','CONTRACTS','VAL_INLAKH','Unnamed: 15','AssumedPremium','difference'],axis=1)"
   ]
  },
  {
   "cell_type": "code",
   "execution_count": 39,
   "id": "b32b5e95",
   "metadata": {
    "scrolled": true
   },
   "outputs": [],
   "source": [
    "df_final = fdf.append(nifty1,ignore_index=True)\n",
    "df_final = df_final.drop(['Unnamed: 0'],axis=1)"
   ]
  },
  {
   "cell_type": "code",
   "execution_count": 40,
   "id": "38c86961",
   "metadata": {
    "scrolled": true
   },
   "outputs": [],
   "source": [
    "for i in range(0,len(df_final)):\n",
    "    df_final.loc[i,'fullname'] = (df_final['SYMBOL'][i]+str(df_final['STRIKE_PR'][i]))"
   ]
  },
  {
   "cell_type": "code",
   "execution_count": 41,
   "id": "ea6046f3",
   "metadata": {},
   "outputs": [],
   "source": [
    "link1 = \"https://www1.nseindia.com/content/historical/EQUITIES/\"\n",
    "joiner = \"/\"\n",
    "link2 = \"cm\"\n",
    "link3 = \"bhav.csv.zip\"\n",
    "path = r\"C:\\Users\\admin\\Desktop\\7. Correlation-Dispersion\\EQ\\\\\"\n",
    "filenamehelp = \"bhav.csv\"\n",
    "\n",
    "nextmonthday1 = '26/05/2022'\n",
    "nextmonthday1 = datetime.strptime(nextmonthday1,'%d/%m/%Y')\n",
    "Year = nextmonthday1.strftime('%Y')\n",
    "Month = (nextmonthday1.strftime('%b')).upper()\n",
    "Day = nextmonthday1.strftime('%d')\n",
    "finallink = link1 + Year + joiner + Month + joiner + link2 + Day + Month + Year + link3\n",
    "filename = link2 + Day + Month + Year + filenamehelp\n",
    "completename = path + filename\n",
    "sell1 = pd.read_csv(finallink)\n",
    "sell1.to_csv(completename + \".csv\")\n",
    "sell2 = pd.read_csv(completename + \".csv\")"
   ]
  },
  {
   "cell_type": "code",
   "execution_count": 42,
   "id": "88e4037e",
   "metadata": {},
   "outputs": [],
   "source": [
    "sell_close = sell2[((sell2['SERIES']=='EQ'))]\n",
    "sell_close.reset_index(inplace = True,drop = True)"
   ]
  },
  {
   "cell_type": "code",
   "execution_count": 43,
   "id": "68a317d2",
   "metadata": {
    "scrolled": true
   },
   "outputs": [],
   "source": [
    "for i in range (0,len(sell_close)):\n",
    "    if ((sell_close.loc[i,'SYMBOL'] in finaldata.values) or (sell_close.loc[i,'SYMBOL']=='NIFTY')):\n",
    "        sell_close.loc[i,'Check'] = 1\n",
    "    else:\n",
    "        sell_close.loc[i,'Check'] = 0"
   ]
  },
  {
   "cell_type": "code",
   "execution_count": 44,
   "id": "3bfdebef",
   "metadata": {
    "scrolled": true
   },
   "outputs": [
    {
     "data": {
      "text/html": [
       "<div>\n",
       "<style scoped>\n",
       "    .dataframe tbody tr th:only-of-type {\n",
       "        vertical-align: middle;\n",
       "    }\n",
       "\n",
       "    .dataframe tbody tr th {\n",
       "        vertical-align: top;\n",
       "    }\n",
       "\n",
       "    .dataframe thead th {\n",
       "        text-align: right;\n",
       "    }\n",
       "</style>\n",
       "<table border=\"1\" class=\"dataframe\">\n",
       "  <thead>\n",
       "    <tr style=\"text-align: right;\">\n",
       "      <th></th>\n",
       "      <th>SYMBOL</th>\n",
       "      <th>CLOSE</th>\n",
       "    </tr>\n",
       "  </thead>\n",
       "  <tbody>\n",
       "    <tr>\n",
       "      <th>0</th>\n",
       "      <td>ACC</td>\n",
       "      <td>2208.00</td>\n",
       "    </tr>\n",
       "    <tr>\n",
       "      <th>1</th>\n",
       "      <td>ADANIENT</td>\n",
       "      <td>2046.40</td>\n",
       "    </tr>\n",
       "    <tr>\n",
       "      <th>2</th>\n",
       "      <td>ADANIPORTS</td>\n",
       "      <td>701.50</td>\n",
       "    </tr>\n",
       "    <tr>\n",
       "      <th>3</th>\n",
       "      <td>AMBUJACEM</td>\n",
       "      <td>365.40</td>\n",
       "    </tr>\n",
       "    <tr>\n",
       "      <th>4</th>\n",
       "      <td>APOLLOHOSP</td>\n",
       "      <td>3662.80</td>\n",
       "    </tr>\n",
       "    <tr>\n",
       "      <th>...</th>\n",
       "      <td>...</td>\n",
       "      <td>...</td>\n",
       "    </tr>\n",
       "    <tr>\n",
       "      <th>95</th>\n",
       "      <td>UPL</td>\n",
       "      <td>747.45</td>\n",
       "    </tr>\n",
       "    <tr>\n",
       "      <th>96</th>\n",
       "      <td>VEDL</td>\n",
       "      <td>313.05</td>\n",
       "    </tr>\n",
       "    <tr>\n",
       "      <th>97</th>\n",
       "      <td>VOLTAS</td>\n",
       "      <td>995.85</td>\n",
       "    </tr>\n",
       "    <tr>\n",
       "      <th>98</th>\n",
       "      <td>WIPRO</td>\n",
       "      <td>453.35</td>\n",
       "    </tr>\n",
       "    <tr>\n",
       "      <th>99</th>\n",
       "      <td>ZEEL</td>\n",
       "      <td>229.80</td>\n",
       "    </tr>\n",
       "  </tbody>\n",
       "</table>\n",
       "<p>100 rows × 2 columns</p>\n",
       "</div>"
      ],
      "text/plain": [
       "        SYMBOL    CLOSE\n",
       "0          ACC  2208.00\n",
       "1     ADANIENT  2046.40\n",
       "2   ADANIPORTS   701.50\n",
       "3    AMBUJACEM   365.40\n",
       "4   APOLLOHOSP  3662.80\n",
       "..         ...      ...\n",
       "95         UPL   747.45\n",
       "96        VEDL   313.05\n",
       "97      VOLTAS   995.85\n",
       "98       WIPRO   453.35\n",
       "99        ZEEL   229.80\n",
       "\n",
       "[100 rows x 2 columns]"
      ]
     },
     "metadata": {},
     "output_type": "display_data"
    }
   ],
   "source": [
    "selldata = sell_close[sell_close['Check']==1]\n",
    "selldata.reset_index(inplace = True,drop = True)\n",
    "selldata = selldata.drop(['Unnamed: 0','SERIES','OPEN','HIGH','LOW','LAST','PREVCLOSE','TOTTRDQTY','TOTTRDVAL','TIMESTAMP','TOTALTRADES','ISIN','Unnamed: 13','Check'],axis=1)\n",
    "\n",
    "display(selldata)"
   ]
  },
  {
   "cell_type": "code",
   "execution_count": 45,
   "id": "4b7ae08a",
   "metadata": {
    "scrolled": true
   },
   "outputs": [
    {
     "data": {
      "text/plain": [
       "{'ACC': [2208.0],\n",
       " 'ADANIENT': [2046.4],\n",
       " 'ADANIPORTS': [701.5],\n",
       " 'AMBUJACEM': [365.4],\n",
       " 'APOLLOHOSP': [3662.8],\n",
       " 'ASHOKLEY': [137.4],\n",
       " 'ASIANPAINT': [2840.15],\n",
       " 'AUBANK': [1321.5],\n",
       " 'AUROPHARMA': [535.85],\n",
       " 'AXISBANK': [683.25],\n",
       " 'BAJAJ-AUTO': [3857.35],\n",
       " 'BAJAJFINSV': [12477.75],\n",
       " 'BAJFINANCE': [5817.8],\n",
       " 'BALRAMCHIN': [375.45],\n",
       " 'BANDHANBNK': [316.35],\n",
       " 'BANKBARODA': [98.35],\n",
       " 'BEL': [226.0],\n",
       " 'BHARTIARTL': [693.65],\n",
       " 'BHEL': [50.2],\n",
       " 'BIOCON': [325.4],\n",
       " 'BPCL': [324.35],\n",
       " 'BSOFT': [353.7],\n",
       " 'CHAMBLFERT': [345.75],\n",
       " 'CHOLAFIN': [638.9],\n",
       " 'CIPLA': [964.55],\n",
       " 'COALINDIA': [183.25],\n",
       " 'DEEPAKNTR': [1843.75],\n",
       " 'DIVISLAB': [3448.7],\n",
       " 'DLF': [319.85],\n",
       " 'DRREDDY': [4304.15],\n",
       " 'EICHERMOT': [2725.1],\n",
       " 'ESCORTS': [1609.4],\n",
       " 'GAIL': [151.2],\n",
       " 'GNFC': [598.75],\n",
       " 'GODREJCP': [779.95],\n",
       " 'GRASIM': [1392.55],\n",
       " 'HAL': [1763.0],\n",
       " 'HAVELLS': [1172.75],\n",
       " 'HCLTECH': [980.7],\n",
       " 'HDFC': [2287.75],\n",
       " 'HDFCAMC': [1738.15],\n",
       " 'HDFCBANK': [1366.7],\n",
       " 'HDFCLIFE': [578.05],\n",
       " 'HEROMOTOCO': [2636.45],\n",
       " 'HINDALCO': [407.85],\n",
       " 'HINDUNILVR': [2280.2],\n",
       " 'ICICIBANK': [728.5],\n",
       " 'IDFCFIRSTB': [34.3],\n",
       " 'IEX': [180.25],\n",
       " 'IGL': [369.3],\n",
       " 'INDHOTEL': [220.4],\n",
       " 'INDIGO': [1816.2],\n",
       " 'INDUSINDBK': [897.6],\n",
       " 'INFY': [1423.95],\n",
       " 'IOC': [114.2],\n",
       " 'IRCTC': [639.4],\n",
       " 'ITC': [266.7],\n",
       " 'JINDALSTEL': [394.25],\n",
       " 'JSWSTEEL': [551.7],\n",
       " 'JUBLFOOD': [486.85],\n",
       " 'KOTAKBANK': [1908.65],\n",
       " 'L&TFH': [74.0],\n",
       " 'LICHSGFIN': [375.6],\n",
       " 'LT': [1564.55],\n",
       " 'LTI': [3874.25],\n",
       " 'LUPIN': [600.5],\n",
       " 'M&M': [929.8],\n",
       " 'MARUTI': [7805.0],\n",
       " 'MINDTREE': [2748.6],\n",
       " 'NMDC': [125.9],\n",
       " 'NTPC': [154.15],\n",
       " 'ONGC': [151.9],\n",
       " 'PEL': [1861.35],\n",
       " 'PNB': [30.25],\n",
       " 'POLYCAB': [2408.95],\n",
       " 'POWERGRID': [227.2],\n",
       " 'PVR': [1730.75],\n",
       " 'RBLBANK': [111.4],\n",
       " 'RELIANCE': [2587.1],\n",
       " 'SAIL': [73.65],\n",
       " 'SBICARD': [756.6],\n",
       " 'SBILIFE': [1105.35],\n",
       " 'SBIN': [468.9],\n",
       " 'SRF': [2270.7],\n",
       " 'SUNPHARMA': [899.95],\n",
       " 'TATACHEM': [932.25],\n",
       " 'TATACOMM': [943.55],\n",
       " 'TATACONSUM': [722.25],\n",
       " 'TATAMOTORS': [420.65],\n",
       " 'TATAPOWER': [221.45],\n",
       " 'TATASTEEL': [1052.0],\n",
       " 'TCS': [3226.95],\n",
       " 'TECHM': [1078.6],\n",
       " 'TITAN': [2141.95],\n",
       " 'ULTRACEMCO': [5874.25],\n",
       " 'UPL': [747.45],\n",
       " 'VEDL': [313.05],\n",
       " 'VOLTAS': [995.85],\n",
       " 'WIPRO': [453.35],\n",
       " 'ZEEL': [229.8]}"
      ]
     },
     "metadata": {},
     "output_type": "display_data"
    }
   ],
   "source": [
    "finalsell = selldata.set_index('SYMBOL').T.to_dict('list')\n",
    "display(finalsell)"
   ]
  },
  {
   "cell_type": "code",
   "execution_count": 46,
   "id": "b5bb0b0b",
   "metadata": {
    "scrolled": true
   },
   "outputs": [],
   "source": [
    "df_final['sellprice1'] = df_final['SYMBOL'].map(finalsell)\n",
    "for i in range(0,len(df_final)):\n",
    "    df_final.loc[i,'sellprice2'] = str(df_final['sellprice1'][i])\n",
    "    df_final.loc[i,'sellprice'] = (df_final['sellprice2'][i][1:-1])\n",
    "    if i == 100:\n",
    "        df_final.loc[i,'sellprice'] = 16170.15"
   ]
  },
  {
   "cell_type": "code",
   "execution_count": 47,
   "id": "46026690",
   "metadata": {
    "scrolled": true
   },
   "outputs": [],
   "source": [
    "tradesheet = pd.DataFrame()\n",
    "for i in range(0,len(df_final)):\n",
    "    tradesheet.loc[i,'SYMBOL'] = df_final.loc[i,'SYMBOL']\n",
    "    tradesheet.loc[i,'DELTA'] = df_final.loc[i,'Delta']\n",
    "    tradesheet.loc[i,'INSTRUMENT'] = df_final.loc[i,'INSTRUMENT']\n",
    "    tradesheet.loc[i,'EXPIRY_DT'] = df_final.loc[i,'EXPIRY_DT']\n",
    "    tradesheet.loc[i,'STRIKE_PR'] = df_final.loc[i,'STRIKE_PR']\n",
    "    tradesheet.loc[i,'ENTRYPRICE'] = df_final.loc[i,'CLOSE'] \n",
    "    tradesheet.loc[i,'SPOTPRICE'] = df_final.loc[i,'sellprice']\n",
    "    #tradesheet.loc[i,'SPOTPRICE1'] = tradesheet.loc[i,'SPOTPRICE']\n",
    "tradesheet['STRIKE_PR'] = tradesheet['STRIKE_PR'].astype(float)   \n",
    "tradesheet['ENTRYPRICE'] = tradesheet['ENTRYPRICE'].astype(float)\n",
    "tradesheet['SPOTPRICE'] = pd.to_numeric(tradesheet['SPOTPRICE'])\n",
    "#tradesheet['SPOT1'] = tradesheet['SPOTPRICE'].astype(float)\n",
    "#tradesheet['SPOTPRICE'] = tradesheet['SPOTPRICE'].astype()\n",
    "for i in range(0,len(df_final)):    \n",
    "    if (tradesheet.loc[i,'SPOTPRICE']) >= (tradesheet.loc[i,'STRIKE_PR']):\n",
    "        tradesheet.loc[i,'EXITPRICE'] = (tradesheet.loc[i,'SPOTPRICE']) - (tradesheet.loc[i,'STRIKE_PR'])\n",
    "    else:\n",
    "        tradesheet.loc[i,'EXITPRICE'] = 0"
   ]
  },
  {
   "cell_type": "markdown",
   "id": "10413324",
   "metadata": {},
   "source": [
    "### Assuming a capital of Rs. 10 crores.\n",
    "70% we need to use for the OPTSTK and 30% for the OPTIDX\n",
    "\n",
    "refer to notebook for proper explanation"
   ]
  },
  {
   "cell_type": "code",
   "execution_count": 48,
   "id": "3c381813",
   "metadata": {
    "scrolled": true
   },
   "outputs": [],
   "source": [
    "path = r\"C:\\Users\\admin\\Desktop\\7. Correlation-Dispersion\\fo_mktlots.csv\"\n",
    "lotsize = pd.read_csv(path)\n",
    "lotsize = lotsize.iloc[:,1:5]\n",
    "lotsize = lotsize.drop(['22-Jul','22-Jun'],axis=1)"
   ]
  },
  {
   "cell_type": "code",
   "execution_count": 49,
   "id": "6e3f916e",
   "metadata": {
    "scrolled": true
   },
   "outputs": [],
   "source": [
    "for i in range(0,len(lotsize)):\n",
    "    if lotsize.loc[i,'Symbol'] in tradesheet.values:\n",
    "        lotsize.loc[i,'Check'] = 1\n",
    "    else:\n",
    "        lotsize.loc[i,'Check'] = 0"
   ]
  },
  {
   "cell_type": "code",
   "execution_count": 50,
   "id": "ede3ee7c",
   "metadata": {
    "scrolled": true
   },
   "outputs": [
    {
     "data": {
      "text/html": [
       "<div>\n",
       "<style scoped>\n",
       "    .dataframe tbody tr th:only-of-type {\n",
       "        vertical-align: middle;\n",
       "    }\n",
       "\n",
       "    .dataframe tbody tr th {\n",
       "        vertical-align: top;\n",
       "    }\n",
       "\n",
       "    .dataframe thead th {\n",
       "        text-align: right;\n",
       "    }\n",
       "</style>\n",
       "<table border=\"1\" class=\"dataframe\">\n",
       "  <thead>\n",
       "    <tr style=\"text-align: right;\">\n",
       "      <th></th>\n",
       "      <th>Symbol</th>\n",
       "      <th>22-Aug</th>\n",
       "    </tr>\n",
       "  </thead>\n",
       "  <tbody>\n",
       "    <tr>\n",
       "      <th>0</th>\n",
       "      <td>NIFTY</td>\n",
       "      <td>50</td>\n",
       "    </tr>\n",
       "    <tr>\n",
       "      <th>1</th>\n",
       "      <td>AXISBANK</td>\n",
       "      <td>1200</td>\n",
       "    </tr>\n",
       "    <tr>\n",
       "      <th>2</th>\n",
       "      <td>BALRAMCHIN</td>\n",
       "      <td>1600</td>\n",
       "    </tr>\n",
       "    <tr>\n",
       "      <th>3</th>\n",
       "      <td>BPCL</td>\n",
       "      <td>1800</td>\n",
       "    </tr>\n",
       "    <tr>\n",
       "      <th>4</th>\n",
       "      <td>GODREJCP</td>\n",
       "      <td>1000</td>\n",
       "    </tr>\n",
       "    <tr>\n",
       "      <th>...</th>\n",
       "      <td>...</td>\n",
       "      <td>...</td>\n",
       "    </tr>\n",
       "    <tr>\n",
       "      <th>96</th>\n",
       "      <td>GRASIM</td>\n",
       "      <td>475</td>\n",
       "    </tr>\n",
       "    <tr>\n",
       "      <th>97</th>\n",
       "      <td>SUNPHARMA</td>\n",
       "      <td>700</td>\n",
       "    </tr>\n",
       "    <tr>\n",
       "      <th>98</th>\n",
       "      <td>PVR</td>\n",
       "      <td>407</td>\n",
       "    </tr>\n",
       "    <tr>\n",
       "      <th>99</th>\n",
       "      <td>TCS</td>\n",
       "      <td>150</td>\n",
       "    </tr>\n",
       "    <tr>\n",
       "      <th>100</th>\n",
       "      <td>VEDL</td>\n",
       "      <td>1550</td>\n",
       "    </tr>\n",
       "  </tbody>\n",
       "</table>\n",
       "<p>101 rows × 2 columns</p>\n",
       "</div>"
      ],
      "text/plain": [
       "         Symbol 22-Aug\n",
       "0         NIFTY     50\n",
       "1      AXISBANK   1200\n",
       "2    BALRAMCHIN   1600\n",
       "3          BPCL   1800\n",
       "4      GODREJCP   1000\n",
       "..          ...    ...\n",
       "96       GRASIM    475\n",
       "97    SUNPHARMA    700\n",
       "98          PVR    407\n",
       "99          TCS    150\n",
       "100        VEDL   1550\n",
       "\n",
       "[101 rows x 2 columns]"
      ]
     },
     "metadata": {},
     "output_type": "display_data"
    }
   ],
   "source": [
    "lotsizefilter = lotsize[lotsize['Check']==1]\n",
    "lotsizefilter.reset_index(inplace = True,drop = True)\n",
    "lotsizefilter = lotsizefilter.drop(['Check'],axis=1)\n",
    "display(lotsizefilter)"
   ]
  },
  {
   "cell_type": "code",
   "execution_count": 51,
   "id": "ed40386e",
   "metadata": {
    "scrolled": true
   },
   "outputs": [
    {
     "data": {
      "text/plain": [
       "{'NIFTY': ['50'],\n",
       " 'AXISBANK': ['1200'],\n",
       " 'BALRAMCHIN': ['1600'],\n",
       " 'BPCL': ['1800'],\n",
       " 'GODREJCP': ['1000'],\n",
       " 'HDFCLIFE': ['1100'],\n",
       " 'ACC': ['250'],\n",
       " 'HINDALCO': ['1075'],\n",
       " 'IGL': ['1375'],\n",
       " 'ASIANPAINT': ['200'],\n",
       " 'GAIL': ['6100'],\n",
       " 'ONGC': ['3850'],\n",
       " 'ADANIENT': ['500'],\n",
       " 'ADANIPORTS': ['1250'],\n",
       " 'HEROMOTOCO': ['300'],\n",
       " 'AMBUJACEM': ['1800'],\n",
       " 'ASHOKLEY': ['5000'],\n",
       " 'AUBANK': ['1000'],\n",
       " 'AUROPHARMA': ['1000'],\n",
       " 'WIPRO': ['1000'],\n",
       " 'ZEEL': ['3000'],\n",
       " 'BAJAJ-AUTO': ['250'],\n",
       " 'BAJAJFINSV': ['50'],\n",
       " 'BAJFINANCE': ['125'],\n",
       " 'KOTAKBANK': ['400'],\n",
       " 'BANDHANBNK': ['1800'],\n",
       " 'BANKBARODA': ['5850'],\n",
       " 'BEL': ['3800'],\n",
       " 'BHARTIARTL': ['950'],\n",
       " 'BHEL': ['10500'],\n",
       " 'BIOCON': ['2300'],\n",
       " 'BSOFT': ['1300'],\n",
       " 'PEL': ['275'],\n",
       " 'CHAMBLFERT': ['1500'],\n",
       " 'CHOLAFIN': ['1250'],\n",
       " 'CIPLA': ['650'],\n",
       " 'COALINDIA': ['4200'],\n",
       " 'DEEPAKNTR': ['250'],\n",
       " 'DLF': ['1650'],\n",
       " 'EICHERMOT': ['350'],\n",
       " 'APOLLOHOSP': ['125'],\n",
       " 'GNFC': ['1300'],\n",
       " 'HAL': ['475'],\n",
       " 'HAVELLS': ['500'],\n",
       " 'HDFC': ['300'],\n",
       " 'HDFCAMC': ['300'],\n",
       " 'HCLTECH': ['700'],\n",
       " 'HDFCBANK': ['550'],\n",
       " 'IEX': ['3750'],\n",
       " 'INDHOTEL': ['4022'],\n",
       " 'INDUSINDBK': ['900'],\n",
       " 'INFY': ['300'],\n",
       " 'HINDUNILVR': ['300'],\n",
       " 'ICICIBANK': ['1375'],\n",
       " 'LTI': ['150'],\n",
       " 'IDFCFIRSTB': ['15000'],\n",
       " 'INDIGO': ['300'],\n",
       " 'RBLBANK': ['5000'],\n",
       " 'IOC': ['6500'],\n",
       " 'ESCORTS': ['550'],\n",
       " 'IRCTC': ['875'],\n",
       " 'ITC': ['3200'],\n",
       " 'JUBLFOOD': ['1250'],\n",
       " 'L&TFH': ['8924'],\n",
       " 'TATACHEM': ['1000'],\n",
       " 'LICHSGFIN': ['2000'],\n",
       " 'LT': ['300'],\n",
       " 'JINDALSTEL': ['1250'],\n",
       " 'JSWSTEEL': ['1350'],\n",
       " 'LUPIN': ['850'],\n",
       " 'M&M': ['700'],\n",
       " 'TECHM': ['600'],\n",
       " 'NMDC': ['3350'],\n",
       " 'TITAN': ['375'],\n",
       " 'MARUTI': ['100'],\n",
       " 'NTPC': ['5700'],\n",
       " 'MINDTREE': ['200'],\n",
       " 'PNB': ['16000'],\n",
       " 'POLYCAB': ['300'],\n",
       " 'POWERGRID': ['2700'],\n",
       " 'RELIANCE': ['250'],\n",
       " 'SAIL': ['6000'],\n",
       " 'SBICARD': ['800'],\n",
       " 'SBILIFE': ['750'],\n",
       " 'SBIN': ['1500'],\n",
       " 'SRF': ['375'],\n",
       " 'TATACOMM': ['500'],\n",
       " 'TATACONSUM': ['900'],\n",
       " 'TATAMOTORS': ['1425'],\n",
       " 'TATAPOWER': ['3375'],\n",
       " 'TATASTEEL': ['425'],\n",
       " 'ULTRACEMCO': ['100'],\n",
       " 'UPL': ['1300'],\n",
       " 'VOLTAS': ['500'],\n",
       " 'DIVISLAB': ['150'],\n",
       " 'DRREDDY': ['125'],\n",
       " 'GRASIM': ['475'],\n",
       " 'SUNPHARMA': ['700'],\n",
       " 'PVR': ['407'],\n",
       " 'TCS': ['150'],\n",
       " 'VEDL': ['1550']}"
      ]
     },
     "metadata": {},
     "output_type": "display_data"
    }
   ],
   "source": [
    "finallot = lotsizefilter.set_index('Symbol').T.to_dict('list')\n",
    "display(finallot)"
   ]
  },
  {
   "cell_type": "code",
   "execution_count": 56,
   "id": "f31c5c84",
   "metadata": {},
   "outputs": [],
   "source": [
    "tradesheet['lotsize1'] = tradesheet['SYMBOL'].map(finallot)\n",
    "for i in range(0,len(tradesheet)):\n",
    "    tradesheet.loc[i,'lotsize2'] = str(tradesheet['lotsize1'][i])\n",
    "    tradesheet.loc[i,'LOTSIZE'] = tradesheet['lotsize2'][i][2:-2]\n",
    "    \n",
    "tradesheet = tradesheet.drop(['lotsize1','lotsize2'],axis=1)"
   ]
  },
  {
   "cell_type": "code",
   "execution_count": 55,
   "id": "b6a2f1a1",
   "metadata": {
    "scrolled": true
   },
   "outputs": [],
   "source": [
    "for i in range(0,len(tradesheet)):\n",
    "    tradesheet.loc[i,'CONTRACTVALUE_FOR_1LOT'] = tradesheet.loc[i,'ENTRYPRICE']*int(tradesheet.loc[i,'LOTSIZE'])\n",
    "    tradesheet.loc[i,'20%MARGIN_1LOT'] = 0.20*tradesheet.loc[i,'CONTRACTVALUE_FOR_1LOT']\n",
    "        \n",
    "    if tradesheet.loc[i,'INSTRUMENT'] == 'OPTSTK':\n",
    "        tradesheet.loc[i,'Number_of_Lots'] = round(700000/tradesheet.loc[i,'20%MARGIN_1LOT'])\n",
    "        tradesheet.loc[i,'B/S'] = 'SHORT'\n",
    "    else:\n",
    "        tradesheet.loc[i,'Number_of_Lots'] = (30000000/tradesheet.loc[i,'20%MARGIN_1LOT'])\n",
    "        tradesheet.loc[i,'B/S'] = 'BUY'"
   ]
  },
  {
   "cell_type": "code",
   "execution_count": 54,
   "id": "8ee62026",
   "metadata": {},
   "outputs": [
    {
     "data": {
      "text/html": [
       "<div>\n",
       "<style scoped>\n",
       "    .dataframe tbody tr th:only-of-type {\n",
       "        vertical-align: middle;\n",
       "    }\n",
       "\n",
       "    .dataframe tbody tr th {\n",
       "        vertical-align: top;\n",
       "    }\n",
       "\n",
       "    .dataframe thead th {\n",
       "        text-align: right;\n",
       "    }\n",
       "</style>\n",
       "<table border=\"1\" class=\"dataframe\">\n",
       "  <thead>\n",
       "    <tr style=\"text-align: right;\">\n",
       "      <th></th>\n",
       "      <th>SYMBOL</th>\n",
       "      <th>DELTA</th>\n",
       "      <th>INSTRUMENT</th>\n",
       "      <th>EXPIRY_DT</th>\n",
       "      <th>STRIKE_PR</th>\n",
       "      <th>ENTRYPRICE</th>\n",
       "      <th>SPOTPRICE</th>\n",
       "      <th>EXITPRICE</th>\n",
       "      <th>LOTSIZE</th>\n",
       "      <th>CONTRACTVALUE_FOR_1LOT</th>\n",
       "      <th>20%MARGIN_1LOT</th>\n",
       "      <th>Number_of_Lots</th>\n",
       "      <th>B/S</th>\n",
       "      <th>MARGINAMOUNT</th>\n",
       "      <th>ENTRYVALUE</th>\n",
       "      <th>EXITVALUE</th>\n",
       "      <th>P/L</th>\n",
       "    </tr>\n",
       "  </thead>\n",
       "  <tbody>\n",
       "    <tr>\n",
       "      <th>0</th>\n",
       "      <td>ACC</td>\n",
       "      <td>0.206163</td>\n",
       "      <td>OPTSTK</td>\n",
       "      <td>26-May-2022</td>\n",
       "      <td>2680.0</td>\n",
       "      <td>7.50</td>\n",
       "      <td>2208.00</td>\n",
       "      <td>0.0</td>\n",
       "      <td>250</td>\n",
       "      <td>1875.0</td>\n",
       "      <td>375.0</td>\n",
       "      <td>1867.000000</td>\n",
       "      <td>SHORT</td>\n",
       "      <td>700125.0</td>\n",
       "      <td>3500625.0</td>\n",
       "      <td>0.0</td>\n",
       "      <td>3500625.0</td>\n",
       "    </tr>\n",
       "    <tr>\n",
       "      <th>1</th>\n",
       "      <td>ADANIENT</td>\n",
       "      <td>0.384170</td>\n",
       "      <td>OPTSTK</td>\n",
       "      <td>26-May-2022</td>\n",
       "      <td>2560.0</td>\n",
       "      <td>37.55</td>\n",
       "      <td>2046.40</td>\n",
       "      <td>0.0</td>\n",
       "      <td>500</td>\n",
       "      <td>18775.0</td>\n",
       "      <td>3755.0</td>\n",
       "      <td>186.000000</td>\n",
       "      <td>SHORT</td>\n",
       "      <td>698430.0</td>\n",
       "      <td>3492150.0</td>\n",
       "      <td>0.0</td>\n",
       "      <td>3492150.0</td>\n",
       "    </tr>\n",
       "    <tr>\n",
       "      <th>2</th>\n",
       "      <td>ADANIPORTS</td>\n",
       "      <td>0.450364</td>\n",
       "      <td>OPTSTK</td>\n",
       "      <td>26-May-2022</td>\n",
       "      <td>910.0</td>\n",
       "      <td>29.85</td>\n",
       "      <td>701.50</td>\n",
       "      <td>0.0</td>\n",
       "      <td>1250</td>\n",
       "      <td>37312.5</td>\n",
       "      <td>7462.5</td>\n",
       "      <td>94.000000</td>\n",
       "      <td>SHORT</td>\n",
       "      <td>701475.0</td>\n",
       "      <td>3507375.0</td>\n",
       "      <td>0.0</td>\n",
       "      <td>3507375.0</td>\n",
       "    </tr>\n",
       "    <tr>\n",
       "      <th>3</th>\n",
       "      <td>AMBUJACEM</td>\n",
       "      <td>0.270894</td>\n",
       "      <td>OPTSTK</td>\n",
       "      <td>26-May-2022</td>\n",
       "      <td>435.0</td>\n",
       "      <td>1.05</td>\n",
       "      <td>365.40</td>\n",
       "      <td>0.0</td>\n",
       "      <td>1800</td>\n",
       "      <td>1890.0</td>\n",
       "      <td>378.0</td>\n",
       "      <td>1852.000000</td>\n",
       "      <td>SHORT</td>\n",
       "      <td>700056.0</td>\n",
       "      <td>3500280.0</td>\n",
       "      <td>0.0</td>\n",
       "      <td>3500280.0</td>\n",
       "    </tr>\n",
       "    <tr>\n",
       "      <th>4</th>\n",
       "      <td>APOLLOHOSP</td>\n",
       "      <td>0.365219</td>\n",
       "      <td>OPTSTK</td>\n",
       "      <td>26-May-2022</td>\n",
       "      <td>4900.0</td>\n",
       "      <td>63.30</td>\n",
       "      <td>3662.80</td>\n",
       "      <td>0.0</td>\n",
       "      <td>125</td>\n",
       "      <td>7912.5</td>\n",
       "      <td>1582.5</td>\n",
       "      <td>442.000000</td>\n",
       "      <td>SHORT</td>\n",
       "      <td>699465.0</td>\n",
       "      <td>3497325.0</td>\n",
       "      <td>0.0</td>\n",
       "      <td>3497325.0</td>\n",
       "    </tr>\n",
       "    <tr>\n",
       "      <th>...</th>\n",
       "      <td>...</td>\n",
       "      <td>...</td>\n",
       "      <td>...</td>\n",
       "      <td>...</td>\n",
       "      <td>...</td>\n",
       "      <td>...</td>\n",
       "      <td>...</td>\n",
       "      <td>...</td>\n",
       "      <td>...</td>\n",
       "      <td>...</td>\n",
       "      <td>...</td>\n",
       "      <td>...</td>\n",
       "      <td>...</td>\n",
       "      <td>...</td>\n",
       "      <td>...</td>\n",
       "      <td>...</td>\n",
       "      <td>...</td>\n",
       "    </tr>\n",
       "    <tr>\n",
       "      <th>96</th>\n",
       "      <td>VEDL</td>\n",
       "      <td>0.310404</td>\n",
       "      <td>OPTSTK</td>\n",
       "      <td>26-May-2022</td>\n",
       "      <td>450.0</td>\n",
       "      <td>4.40</td>\n",
       "      <td>313.05</td>\n",
       "      <td>0.0</td>\n",
       "      <td>1550</td>\n",
       "      <td>6820.0</td>\n",
       "      <td>1364.0</td>\n",
       "      <td>513.000000</td>\n",
       "      <td>SHORT</td>\n",
       "      <td>699732.0</td>\n",
       "      <td>3498660.0</td>\n",
       "      <td>0.0</td>\n",
       "      <td>3498660.0</td>\n",
       "    </tr>\n",
       "    <tr>\n",
       "      <th>97</th>\n",
       "      <td>VOLTAS</td>\n",
       "      <td>0.301368</td>\n",
       "      <td>OPTSTK</td>\n",
       "      <td>26-May-2022</td>\n",
       "      <td>1400.0</td>\n",
       "      <td>11.75</td>\n",
       "      <td>995.85</td>\n",
       "      <td>0.0</td>\n",
       "      <td>500</td>\n",
       "      <td>5875.0</td>\n",
       "      <td>1175.0</td>\n",
       "      <td>596.000000</td>\n",
       "      <td>SHORT</td>\n",
       "      <td>700300.0</td>\n",
       "      <td>3501500.0</td>\n",
       "      <td>0.0</td>\n",
       "      <td>3501500.0</td>\n",
       "    </tr>\n",
       "    <tr>\n",
       "      <th>98</th>\n",
       "      <td>WIPRO</td>\n",
       "      <td>0.321135</td>\n",
       "      <td>OPTSTK</td>\n",
       "      <td>26-May-2022</td>\n",
       "      <td>560.0</td>\n",
       "      <td>5.85</td>\n",
       "      <td>453.35</td>\n",
       "      <td>0.0</td>\n",
       "      <td>1000</td>\n",
       "      <td>5850.0</td>\n",
       "      <td>1170.0</td>\n",
       "      <td>598.000000</td>\n",
       "      <td>SHORT</td>\n",
       "      <td>699660.0</td>\n",
       "      <td>3498300.0</td>\n",
       "      <td>0.0</td>\n",
       "      <td>3498300.0</td>\n",
       "    </tr>\n",
       "    <tr>\n",
       "      <th>99</th>\n",
       "      <td>ZEEL</td>\n",
       "      <td>0.425166</td>\n",
       "      <td>OPTSTK</td>\n",
       "      <td>26-May-2022</td>\n",
       "      <td>265.0</td>\n",
       "      <td>7.00</td>\n",
       "      <td>229.80</td>\n",
       "      <td>0.0</td>\n",
       "      <td>3000</td>\n",
       "      <td>21000.0</td>\n",
       "      <td>4200.0</td>\n",
       "      <td>167.000000</td>\n",
       "      <td>SHORT</td>\n",
       "      <td>701400.0</td>\n",
       "      <td>3507000.0</td>\n",
       "      <td>0.0</td>\n",
       "      <td>3507000.0</td>\n",
       "    </tr>\n",
       "    <tr>\n",
       "      <th>100</th>\n",
       "      <td>NIFTY</td>\n",
       "      <td>0.218833</td>\n",
       "      <td>OPTIDX</td>\n",
       "      <td>26-May-2022</td>\n",
       "      <td>17600.0</td>\n",
       "      <td>141.95</td>\n",
       "      <td>16170.15</td>\n",
       "      <td>0.0</td>\n",
       "      <td>50</td>\n",
       "      <td>7097.5</td>\n",
       "      <td>1419.5</td>\n",
       "      <td>21134.202184</td>\n",
       "      <td>BUY</td>\n",
       "      <td>29999713.0</td>\n",
       "      <td>149998565.0</td>\n",
       "      <td>0.0</td>\n",
       "      <td>-149998565.0</td>\n",
       "    </tr>\n",
       "  </tbody>\n",
       "</table>\n",
       "<p>101 rows × 17 columns</p>\n",
       "</div>"
      ],
      "text/plain": [
       "         SYMBOL     DELTA INSTRUMENT    EXPIRY_DT  STRIKE_PR  ENTRYPRICE  \\\n",
       "0           ACC  0.206163     OPTSTK  26-May-2022     2680.0        7.50   \n",
       "1      ADANIENT  0.384170     OPTSTK  26-May-2022     2560.0       37.55   \n",
       "2    ADANIPORTS  0.450364     OPTSTK  26-May-2022      910.0       29.85   \n",
       "3     AMBUJACEM  0.270894     OPTSTK  26-May-2022      435.0        1.05   \n",
       "4    APOLLOHOSP  0.365219     OPTSTK  26-May-2022     4900.0       63.30   \n",
       "..          ...       ...        ...          ...        ...         ...   \n",
       "96         VEDL  0.310404     OPTSTK  26-May-2022      450.0        4.40   \n",
       "97       VOLTAS  0.301368     OPTSTK  26-May-2022     1400.0       11.75   \n",
       "98        WIPRO  0.321135     OPTSTK  26-May-2022      560.0        5.85   \n",
       "99         ZEEL  0.425166     OPTSTK  26-May-2022      265.0        7.00   \n",
       "100       NIFTY  0.218833     OPTIDX  26-May-2022    17600.0      141.95   \n",
       "\n",
       "     SPOTPRICE  EXITPRICE LOTSIZE  CONTRACTVALUE_FOR_1LOT  20%MARGIN_1LOT  \\\n",
       "0      2208.00        0.0     250                  1875.0           375.0   \n",
       "1      2046.40        0.0     500                 18775.0          3755.0   \n",
       "2       701.50        0.0    1250                 37312.5          7462.5   \n",
       "3       365.40        0.0    1800                  1890.0           378.0   \n",
       "4      3662.80        0.0     125                  7912.5          1582.5   \n",
       "..         ...        ...     ...                     ...             ...   \n",
       "96      313.05        0.0    1550                  6820.0          1364.0   \n",
       "97      995.85        0.0     500                  5875.0          1175.0   \n",
       "98      453.35        0.0    1000                  5850.0          1170.0   \n",
       "99      229.80        0.0    3000                 21000.0          4200.0   \n",
       "100   16170.15        0.0      50                  7097.5          1419.5   \n",
       "\n",
       "     Number_of_Lots    B/S  MARGINAMOUNT   ENTRYVALUE  EXITVALUE          P/L  \n",
       "0       1867.000000  SHORT      700125.0    3500625.0        0.0    3500625.0  \n",
       "1        186.000000  SHORT      698430.0    3492150.0        0.0    3492150.0  \n",
       "2         94.000000  SHORT      701475.0    3507375.0        0.0    3507375.0  \n",
       "3       1852.000000  SHORT      700056.0    3500280.0        0.0    3500280.0  \n",
       "4        442.000000  SHORT      699465.0    3497325.0        0.0    3497325.0  \n",
       "..              ...    ...           ...          ...        ...          ...  \n",
       "96       513.000000  SHORT      699732.0    3498660.0        0.0    3498660.0  \n",
       "97       596.000000  SHORT      700300.0    3501500.0        0.0    3501500.0  \n",
       "98       598.000000  SHORT      699660.0    3498300.0        0.0    3498300.0  \n",
       "99       167.000000  SHORT      701400.0    3507000.0        0.0    3507000.0  \n",
       "100    21134.202184    BUY    29999713.0  149998565.0        0.0 -149998565.0  \n",
       "\n",
       "[101 rows x 17 columns]"
      ]
     },
     "metadata": {},
     "output_type": "display_data"
    },
    {
     "name": "stdout",
     "output_type": "stream",
     "text": [
      "195883288.9\n",
      "195.8832889\n"
     ]
    }
   ],
   "source": [
    "for i in range(0,len(tradesheet)):\n",
    "    tradesheet.loc[i,'MARGINAMOUNT'] = 0.20*(float(tradesheet.loc[i,'ENTRYPRICE'])*int(tradesheet.loc[i,'LOTSIZE'])*int(tradesheet.loc[i,'Number_of_Lots']))\n",
    "    tradesheet.loc[i,'ENTRYVALUE'] = float(tradesheet.loc[i,'ENTRYPRICE'])*int(tradesheet.loc[i,'LOTSIZE'])*int(tradesheet.loc[i,'Number_of_Lots'])\n",
    "    tradesheet.loc[i,'EXITVALUE'] = float(tradesheet.loc[i,'EXITPRICE'])*int(tradesheet.loc[i,'LOTSIZE'])*int(tradesheet.loc[i,'Number_of_Lots'])  \n",
    "    \n",
    "    if tradesheet.loc[i,'INSTRUMENT'] == 'OPTSTK':\n",
    "        tradesheet.loc[i,'P/L'] = tradesheet.loc[i,'ENTRYVALUE'] - tradesheet.loc[i,'EXITVALUE']\n",
    "    else:\n",
    "        tradesheet.loc[i,'P/L'] = tradesheet.loc[i,'EXITVALUE'] - tradesheet.loc[i,'ENTRYVALUE'] \n",
    "    \n",
    "display(tradesheet)\n",
    "print(tradesheet['P/L'].sum())\n",
    "print(((tradesheet['P/L'].sum())/100000000)*100)\n",
    "\n",
    "tradesheet.to_csv('tradesheet.csv')"
   ]
  }
 ],
 "metadata": {
  "kernelspec": {
   "display_name": "Python 3 (ipykernel)",
   "language": "python",
   "name": "python3"
  },
  "language_info": {
   "codemirror_mode": {
    "name": "ipython",
    "version": 3
   },
   "file_extension": ".py",
   "mimetype": "text/x-python",
   "name": "python",
   "nbconvert_exporter": "python",
   "pygments_lexer": "ipython3",
   "version": "3.9.12"
  }
 },
 "nbformat": 4,
 "nbformat_minor": 5
}
